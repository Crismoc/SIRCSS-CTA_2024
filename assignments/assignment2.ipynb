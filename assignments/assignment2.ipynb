{
 "cells": [
  {
   "cell_type": "markdown",
   "metadata": {},
   "source": [
    "# Assignment 2 –  Word Embeddings\n",
    "\n",
    "In this assignment, we are going to train a dynamic word embedding from scratch on newspaper data. The data is available [here](), and covers news articles between 2005 and 2012."
   ]
  },
  {
   "cell_type": "markdown",
   "metadata": {},
   "source": [
    "We are going to use the ```probabilistic_word_embeddings``` package. It can be installed from pypi. We also need ```networkx``` and  ```pandas``` .\n",
    "\n",
    "The documentation for the PWE module is available [here](https://ninpnin.github.io/probabilistic-word-embeddings/probabilistic_word_embeddings.html). Moreover, an example of training a dynamic embedding (which might come in handy), is available [here](https://github.com/ninpnin/probabilistic-word-embeddings/blob/main/examples/dynamic.py)."
   ]
  },
  {
   "cell_type": "code",
   "execution_count": null,
   "metadata": {},
   "outputs": [],
   "source": [
    "!pip install probabilistic_word_embeddings\n",
    "!pip install networkx pandas"
   ]
  },
  {
   "cell_type": "markdown",
   "metadata": {},
   "source": [
    "First, let's import the modules"
   ]
  },
  {
   "cell_type": "markdown",
   "metadata": {},
   "source": [
    "import networkx as nx\n",
    "import probabilistic_word_embeddings as pwe\n",
    "from probabilistic_word_embeddings.preprocessing import preprocess_standard, preprocess_partitioned\n",
    "from probabilistic_word_embeddings.embeddings import LaplacianEmbedding\n",
    "from probabilistic_word_embeddings.estimation import map_estimate\n",
    "from probabilistic_word_embeddings.evaluation import evaluate_on_holdout_set\n",
    "import pandas as pd\n",
    "import numpy as np"
   ]
  },
  {
   "cell_type": "markdown",
   "metadata": {},
   "source": [
    "Use the ```downsample=False``` flag in the preprocessing function."
   ]
  },
  {
   "cell_type": "code",
   "execution_count": null,
   "metadata": {},
   "outputs": [],
   "source": [
    "e.save(\"embedding.pkl\")"
   ]
  },
  {
   "cell_type": "markdown",
   "metadata": {},
   "source": [
    "e.save(\"embedding.pkl\")"
   ]
  }
 ],
 "metadata": {
  "kernelspec": {
   "display_name": "tfp",
   "language": "python",
   "name": "python3"
  },
  "language_info": {
   "codemirror_mode": {
    "name": "ipython",
    "version": 3
   },
   "file_extension": ".py",
   "mimetype": "text/x-python",
   "name": "python",
   "nbconvert_exporter": "python",
   "pygments_lexer": "ipython3",
   "version": "3.9.19"
  }
 },
 "nbformat": 4,
 "nbformat_minor": 2
}
