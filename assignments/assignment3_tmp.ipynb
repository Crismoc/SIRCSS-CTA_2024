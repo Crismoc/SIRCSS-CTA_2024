{
  "cells": [
    {
      "cell_type": "markdown",
      "metadata": {
        "id": "view-in-github"
      },
      "source": [
        "<a href=\"https://colab.research.google.com/github/MansMeg/IntroML/blob/master/assignments/swedish_bert_classification.ipynb\" target=\"_parent\"><img src=\"https://colab.research.google.com/assets/colab-badge.svg\" alt=\"Open In Colab\"/></a>"
      ]
    },
    {
      "cell_type": "markdown",
      "metadata": {
        "id": "3rUi3l-lEOpD"
      },
      "source": [
        "# Classification of motions from the Swedish Parliament (Riksdagen) using a Swedish BERT model\n",
        "\n",
        "Here we demonstrate how to perform document classification using models from the `transformers` Python library. We will be using a dataset consisting of parliamentary motions from the Swedish Parliament (Riksdagen). Can we predict which party authored a parliamentary motion using only the text of a motion as input?\n",
        "\n",
        "Huggingface `transformers` library has many high level abstractions for making training of large language models \"simpler\". In particular there is the `Trainer` class for launching training, and the `datasets` library for loading and working with Huggingface datasets. There are already [plenty](https://huggingface.co/course/chapter3/3?fw=pt) of guides on the internet showing [how to use these tools](https://huggingface.co/transformers/v3.2.0/custom_datasets.html#fine-tuning-with-trainer).\n",
        "\n",
        "While these high level abstractions might help make tutorials more succinct and straight to the point, it usually comes at the cost of creating barriers for students and practicians who at some later point may need to adapt their use to custom datasets and (non-standard) training objectives.\n",
        "\n",
        "The patterns used in this guide will therefore all be standard Pytorch abstractions for creating datasets, dataloaders and writing your own custom training loops for transformer model trained for Swedish. These patterns are general for Pytorch, and thus applicable in almost all situations where you're working with Pytorch models. Your capacity to customize and change things is only limited by your knowledge of Pytorch and your basic coding abilities."
      ]
    },
    {
      "cell_type": "markdown",
      "metadata": {
        "id": "ueKXhHifhKRI"
      },
      "source": [
        "## Setting up data\n",
        "\n",
        "### Installing the `transformers` library\n",
        "\n",
        "Google Colab has the `transformers` library already installed. Should this not be the case for you, run the cell below.\n",
        "\n",
        "\n"
      ]
    },
    {
      "cell_type": "code",
      "execution_count": 61,
      "metadata": {
        "colab": {
          "base_uri": "https://localhost:8080/"
        },
        "id": "aRpTgvv0hX5r",
        "outputId": "81fb5ba6-4439-45be-e798-907fb0f00402"
      },
      "outputs": [
        {
          "name": "stdout",
          "output_type": "stream",
          "text": [
            "Requirement already satisfied: transformers in /usr/local/lib/python3.10/dist-packages (4.41.1)\n",
            "Requirement already satisfied: filelock in /usr/local/lib/python3.10/dist-packages (from transformers) (3.14.0)\n",
            "Requirement already satisfied: huggingface-hub<1.0,>=0.23.0 in /usr/local/lib/python3.10/dist-packages (from transformers) (0.23.1)\n",
            "Requirement already satisfied: numpy>=1.17 in /usr/local/lib/python3.10/dist-packages (from transformers) (1.25.2)\n",
            "Requirement already satisfied: packaging>=20.0 in /usr/local/lib/python3.10/dist-packages (from transformers) (24.0)\n",
            "Requirement already satisfied: pyyaml>=5.1 in /usr/local/lib/python3.10/dist-packages (from transformers) (6.0.1)\n",
            "Requirement already satisfied: regex!=2019.12.17 in /usr/local/lib/python3.10/dist-packages (from transformers) (2024.5.15)\n",
            "Requirement already satisfied: requests in /usr/local/lib/python3.10/dist-packages (from transformers) (2.31.0)\n",
            "Requirement already satisfied: tokenizers<0.20,>=0.19 in /usr/local/lib/python3.10/dist-packages (from transformers) (0.19.1)\n",
            "Requirement already satisfied: safetensors>=0.4.1 in /usr/local/lib/python3.10/dist-packages (from transformers) (0.4.3)\n",
            "Requirement already satisfied: tqdm>=4.27 in /usr/local/lib/python3.10/dist-packages (from transformers) (4.66.4)\n",
            "Requirement already satisfied: fsspec>=2023.5.0 in /usr/local/lib/python3.10/dist-packages (from huggingface-hub<1.0,>=0.23.0->transformers) (2023.6.0)\n",
            "Requirement already satisfied: typing-extensions>=3.7.4.3 in /usr/local/lib/python3.10/dist-packages (from huggingface-hub<1.0,>=0.23.0->transformers) (4.11.0)\n",
            "Requirement already satisfied: charset-normalizer<4,>=2 in /usr/local/lib/python3.10/dist-packages (from requests->transformers) (3.3.2)\n",
            "Requirement already satisfied: idna<4,>=2.5 in /usr/local/lib/python3.10/dist-packages (from requests->transformers) (3.7)\n",
            "Requirement already satisfied: urllib3<3,>=1.21.1 in /usr/local/lib/python3.10/dist-packages (from requests->transformers) (2.0.7)\n",
            "Requirement already satisfied: certifi>=2017.4.17 in /usr/local/lib/python3.10/dist-packages (from requests->transformers) (2024.2.2)\n"
          ]
        }
      ],
      "source": [
        "!pip install transformers"
      ]
    },
    {
      "cell_type": "markdown",
      "metadata": {
        "id": "z2C6ES5LFq-M"
      },
      "source": [
        "### Downloading the Swedish parliamentary corpus\n",
        "\n",
        "We download a dataset of parliamentary motions from the years 2014-2021 that has been collected from the Swedish parliament open data and prepared in advance. The interested reader can see where the data was [downloaded from](https://github.com/kb-labb/bertopic_workshop/blob/main/download_data.sh) and how it was [preprocessed](https://github.com/kb-labb/bertopic_workshop/blob/main/parse_motioner.py)."
      ]
    },
    {
      "cell_type": "code",
      "execution_count": 62,
      "metadata": {
        "colab": {
          "base_uri": "https://localhost:8080/"
        },
        "id": "_28mJ1GWCB4Y",
        "outputId": "6764db13-ed42-445c-ad64-34bfd0528f77"
      },
      "outputs": [
        {
          "name": "stdout",
          "output_type": "stream",
          "text": [
            "  % Total    % Received % Xferd  Average Speed   Time    Time     Time  Current\n",
            "                                 Dload  Upload   Total   Spent    Left  Speed\n",
            "  0     0    0     0    0     0      0      0 --:--:-- --:--:-- --:--:--     0\n",
            "  0     0    0     0    0     0      0      0 --:--:-- --:--:-- --:--:--     0\n",
            "100     8    0     8    0     0      6      0 --:--:--  0:00:01 --:--:--  8000\n",
            "100 90.6M  100 90.6M    0     0  10.1M      0  0:00:08  0:00:08 --:--:-- 17.5M\n"
          ]
        }
      ],
      "source": [
        "!curl -L https://kungliga-biblioteket.box.com/shared/static/ii4yhmj0f5do0ifjtj1nzb13iy7dkq5e --output motioner_2014_2021.parquet"
      ]
    },
    {
      "cell_type": "markdown",
      "metadata": {
        "id": "ePb4_9EvHkUw"
      },
      "source": [
        "We read our data file `motioner_2014_2021.parquet` as a dataframe and display a table of it below.\n",
        "\n",
        "Here's a brief explanation of some column variables whose names may not be fully self-explanatory:\n",
        "\n",
        "* **doc_id**: Unique id that identifies each parliamentary motion document.\n",
        "* **text**: Contains the full body text of the parliamentary motion (truncated in the table below).\n",
        "* **datum**: Date.\n",
        "* **dokument_html_url**: An URL to the document in html-format on Riksdagen's website.\n",
        "* **titel**: Title.\n",
        "* **subtitel**: Who wrote the motion (\"m.fl.\" can be translated \"et al.\").\n",
        "* **organ**: Abbreviations of the different [committees (\"utskott\")](https://sv.wikipedia.org/wiki/Riksdagsutskott_(Sverige)) of the riksdag.  \n",
        "* **subtyp**: Type of motion. Whether it was submitted by an individual member (Enskild motion), a committee (Kommittémotion), a political party (partimotion), or several parties (flerpartimotion).\n",
        "* **authors_\\***: How many authors from each individual party that wrote the motion.\n",
        "* **nr_authors**: Total number of listed authors.\n",
        "* **party**: Party abbreviations of party/parties involved in writing the motion, separated by commas.\n",
        "* **single_party_authors**: Boolean variable indicating whether the authors of the motion were all from the same party (True), or whether it was a collaboration between several parties (False).\n",
        "\n",
        "We use the `pandas` library to read in the corpus and display the five first motions."
      ]
    },
    {
      "cell_type": "code",
      "execution_count": 1,
      "metadata": {
        "colab": {
          "base_uri": "https://localhost:8080/",
          "height": 686
        },
        "id": "Quc3yyagHNCc",
        "outputId": "0f81ae9b-e48b-4005-ac4f-e12edc6ea828"
      },
      "outputs": [
        {
          "name": "stdout",
          "output_type": "stream",
          "text": [
            "The dataset consists of a total of 29851 motions.\n"
          ]
        },
        {
          "data": {
            "application/vnd.google.colaboratory.intrinsic+json": {
              "type": "dataframe",
              "variable_name": "df"
            },
            "text/html": [
              "\n",
              "  <div id=\"df-dc11b082-75db-4d0b-a47e-e607474cecb2\" class=\"colab-df-container\">\n",
              "    <div>\n",
              "<style scoped>\n",
              "    .dataframe tbody tr th:only-of-type {\n",
              "        vertical-align: middle;\n",
              "    }\n",
              "\n",
              "    .dataframe tbody tr th {\n",
              "        vertical-align: top;\n",
              "    }\n",
              "\n",
              "    .dataframe thead th {\n",
              "        text-align: right;\n",
              "    }\n",
              "</style>\n",
              "<table border=\"1\" class=\"dataframe\">\n",
              "  <thead>\n",
              "    <tr style=\"text-align: right;\">\n",
              "      <th></th>\n",
              "      <th>dok_id</th>\n",
              "      <th>text</th>\n",
              "      <th>datum</th>\n",
              "      <th>dokument_url_html</th>\n",
              "      <th>titel</th>\n",
              "      <th>subtitel</th>\n",
              "      <th>organ</th>\n",
              "      <th>subtyp</th>\n",
              "      <th>hangar_id</th>\n",
              "      <th>authors_V</th>\n",
              "      <th>...</th>\n",
              "      <th>authors_MP</th>\n",
              "      <th>authors_C</th>\n",
              "      <th>authors_L</th>\n",
              "      <th>authors_KD</th>\n",
              "      <th>authors_M</th>\n",
              "      <th>authors_SD</th>\n",
              "      <th>authors_independent</th>\n",
              "      <th>nr_authors</th>\n",
              "      <th>party</th>\n",
              "      <th>single_party_authors</th>\n",
              "    </tr>\n",
              "  </thead>\n",
              "  <tbody>\n",
              "    <tr>\n",
              "      <th>0</th>\n",
              "      <td>H9023691</td>\n",
              "      <td>Den svenska gruv- och mineralnäringen var med ...</td>\n",
              "      <td>2021-10-05</td>\n",
              "      <td>http://data.riksdagen.se/dokument/H9023691</td>\n",
              "      <td>En konkurrenskraftig gruvnäring för framtiden</td>\n",
              "      <td>av Lars Hjälmered m.fl. (M)</td>\n",
              "      <td>NU</td>\n",
              "      <td>Kommittémotion</td>\n",
              "      <td>5109435</td>\n",
              "      <td>0</td>\n",
              "      <td>...</td>\n",
              "      <td>0</td>\n",
              "      <td>0</td>\n",
              "      <td>0</td>\n",
              "      <td>0</td>\n",
              "      <td>4</td>\n",
              "      <td>0</td>\n",
              "      <td>0</td>\n",
              "      <td>4</td>\n",
              "      <td>M</td>\n",
              "      <td>True</td>\n",
              "    </tr>\n",
              "    <tr>\n",
              "      <th>1</th>\n",
              "      <td>H6022337</td>\n",
              "      <td>Regeringen beslutade under 2017 att anta en na...</td>\n",
              "      <td>2018-11-29</td>\n",
              "      <td>http://data.riksdagen.se/dokument/H6022337</td>\n",
              "      <td>Starkare nationell cykelpolitik</td>\n",
              "      <td>av Emma Berginger (MP)</td>\n",
              "      <td>TU</td>\n",
              "      <td>Enskild motion</td>\n",
              "      <td>5012022</td>\n",
              "      <td>0</td>\n",
              "      <td>...</td>\n",
              "      <td>1</td>\n",
              "      <td>0</td>\n",
              "      <td>0</td>\n",
              "      <td>0</td>\n",
              "      <td>0</td>\n",
              "      <td>0</td>\n",
              "      <td>0</td>\n",
              "      <td>1</td>\n",
              "      <td>MP</td>\n",
              "      <td>True</td>\n",
              "    </tr>\n",
              "    <tr>\n",
              "      <th>2</th>\n",
              "      <td>H8023930</td>\n",
              "      <td>Regeringen föreslår genom proposition 2020/21:...</td>\n",
              "      <td>2021-04-07</td>\n",
              "      <td>http://data.riksdagen.se/dokument/H8023930</td>\n",
              "      <td>med anledning av prop. 2020/21:159 Vissa ident...</td>\n",
              "      <td>av Christina Höj Larsen m.fl. (V)</td>\n",
              "      <td>SfU</td>\n",
              "      <td>Kommittémotion</td>\n",
              "      <td>5092870</td>\n",
              "      <td>5</td>\n",
              "      <td>...</td>\n",
              "      <td>0</td>\n",
              "      <td>0</td>\n",
              "      <td>0</td>\n",
              "      <td>0</td>\n",
              "      <td>0</td>\n",
              "      <td>0</td>\n",
              "      <td>0</td>\n",
              "      <td>5</td>\n",
              "      <td>V</td>\n",
              "      <td>True</td>\n",
              "    </tr>\n",
              "    <tr>\n",
              "      <th>3</th>\n",
              "      <td>H80268</td>\n",
              "      <td>Under en sommarkväll 2018 misshandlades en per...</td>\n",
              "      <td>2020-09-11</td>\n",
              "      <td>http://data.riksdagen.se/dokument/H80268</td>\n",
              "      <td>Utvidgad nödvärnsrätt</td>\n",
              "      <td>av Markus Wiechel och Alexander Christiansson ...</td>\n",
              "      <td>JuU</td>\n",
              "      <td>Enskild motion</td>\n",
              "      <td>5066863</td>\n",
              "      <td>0</td>\n",
              "      <td>...</td>\n",
              "      <td>0</td>\n",
              "      <td>0</td>\n",
              "      <td>0</td>\n",
              "      <td>0</td>\n",
              "      <td>0</td>\n",
              "      <td>2</td>\n",
              "      <td>0</td>\n",
              "      <td>2</td>\n",
              "      <td>SD</td>\n",
              "      <td>True</td>\n",
              "    </tr>\n",
              "    <tr>\n",
              "      <th>4</th>\n",
              "      <td>H3021446</td>\n",
              "      <td>Företag skapar arbetstillfällen och bidrar til...</td>\n",
              "      <td>2015-10-05</td>\n",
              "      <td>http://data.riksdagen.se/dokument/H3021446</td>\n",
              "      <td>Företagsdag på högstadiet och gymnasiet</td>\n",
              "      <td>av Johan Nissinen (SD)</td>\n",
              "      <td>UbU</td>\n",
              "      <td>Enskild motion</td>\n",
              "      <td>4386670</td>\n",
              "      <td>0</td>\n",
              "      <td>...</td>\n",
              "      <td>0</td>\n",
              "      <td>0</td>\n",
              "      <td>0</td>\n",
              "      <td>0</td>\n",
              "      <td>0</td>\n",
              "      <td>1</td>\n",
              "      <td>0</td>\n",
              "      <td>1</td>\n",
              "      <td>SD</td>\n",
              "      <td>True</td>\n",
              "    </tr>\n",
              "    <tr>\n",
              "      <th>...</th>\n",
              "      <td>...</td>\n",
              "      <td>...</td>\n",
              "      <td>...</td>\n",
              "      <td>...</td>\n",
              "      <td>...</td>\n",
              "      <td>...</td>\n",
              "      <td>...</td>\n",
              "      <td>...</td>\n",
              "      <td>...</td>\n",
              "      <td>...</td>\n",
              "      <td>...</td>\n",
              "      <td>...</td>\n",
              "      <td>...</td>\n",
              "      <td>...</td>\n",
              "      <td>...</td>\n",
              "      <td>...</td>\n",
              "      <td>...</td>\n",
              "      <td>...</td>\n",
              "      <td>...</td>\n",
              "      <td>...</td>\n",
              "      <td>...</td>\n",
              "    </tr>\n",
              "    <tr>\n",
              "      <th>29846</th>\n",
              "      <td>H9021195</td>\n",
              "      <td>Färjetrafiken till Gotland är öns landsväg, de...</td>\n",
              "      <td>2021-09-30</td>\n",
              "      <td>http://data.riksdagen.se/dokument/H9021195</td>\n",
              "      <td>Statligt ansvar för en reservhamn i Gotlandstr...</td>\n",
              "      <td>av Lars Thomsson (C)</td>\n",
              "      <td>TU</td>\n",
              "      <td>Enskild motion</td>\n",
              "      <td>5106758</td>\n",
              "      <td>0</td>\n",
              "      <td>...</td>\n",
              "      <td>0</td>\n",
              "      <td>1</td>\n",
              "      <td>0</td>\n",
              "      <td>0</td>\n",
              "      <td>0</td>\n",
              "      <td>0</td>\n",
              "      <td>0</td>\n",
              "      <td>1</td>\n",
              "      <td>C</td>\n",
              "      <td>True</td>\n",
              "    </tr>\n",
              "    <tr>\n",
              "      <th>29847</th>\n",
              "      <td>H5023547</td>\n",
              "      <td>Länge har problemet just varit att Sverige int...</td>\n",
              "      <td>2017-10-05</td>\n",
              "      <td>http://data.riksdagen.se/dokument/H5023547</td>\n",
              "      <td>Visum och bidragssanktioner mot länder som int...</td>\n",
              "      <td>av Kent Ekeroth (SD)</td>\n",
              "      <td>SfU</td>\n",
              "      <td>Enskild motion</td>\n",
              "      <td>4773394</td>\n",
              "      <td>0</td>\n",
              "      <td>...</td>\n",
              "      <td>0</td>\n",
              "      <td>0</td>\n",
              "      <td>0</td>\n",
              "      <td>0</td>\n",
              "      <td>0</td>\n",
              "      <td>1</td>\n",
              "      <td>0</td>\n",
              "      <td>1</td>\n",
              "      <td>SD</td>\n",
              "      <td>True</td>\n",
              "    </tr>\n",
              "    <tr>\n",
              "      <th>29848</th>\n",
              "      <td>H2021061</td>\n",
              "      <td>Inför riksdagsvalen går debattens vågor höga. ...</td>\n",
              "      <td>2014-11-07</td>\n",
              "      <td>http://data.riksdagen.se/dokument/H2021061</td>\n",
              "      <td>Förbättrad kvalitet i valdebatten</td>\n",
              "      <td>av Betty Malmberg (M)</td>\n",
              "      <td>KU</td>\n",
              "      <td>Enskild motion</td>\n",
              "      <td>3111220</td>\n",
              "      <td>0</td>\n",
              "      <td>...</td>\n",
              "      <td>0</td>\n",
              "      <td>0</td>\n",
              "      <td>0</td>\n",
              "      <td>0</td>\n",
              "      <td>1</td>\n",
              "      <td>0</td>\n",
              "      <td>0</td>\n",
              "      <td>1</td>\n",
              "      <td>M</td>\n",
              "      <td>True</td>\n",
              "    </tr>\n",
              "    <tr>\n",
              "      <th>29849</th>\n",
              "      <td>H5023948</td>\n",
              "      <td>Riksrevisionen riktar mycket allvarlig kritik ...</td>\n",
              "      <td>2018-01-09</td>\n",
              "      <td>http://data.riksdagen.se/dokument/H5023948</td>\n",
              "      <td>med anledning av skr. 2017/18:68 Riksrevisione...</td>\n",
              "      <td>av Stefan Jakobsson och Robert Stenkvist (båda...</td>\n",
              "      <td>UbU</td>\n",
              "      <td>Enskild motion</td>\n",
              "      <td>4785744</td>\n",
              "      <td>0</td>\n",
              "      <td>...</td>\n",
              "      <td>0</td>\n",
              "      <td>0</td>\n",
              "      <td>0</td>\n",
              "      <td>0</td>\n",
              "      <td>0</td>\n",
              "      <td>2</td>\n",
              "      <td>0</td>\n",
              "      <td>2</td>\n",
              "      <td>SD</td>\n",
              "      <td>True</td>\n",
              "    </tr>\n",
              "    <tr>\n",
              "      <th>29850</th>\n",
              "      <td>H3021050</td>\n",
              "      <td>Delningsekonomin, som innebär att vi delar all...</td>\n",
              "      <td>2015-10-05</td>\n",
              "      <td>http://data.riksdagen.se/dokument/H3021050</td>\n",
              "      <td>Delningsekonomi</td>\n",
              "      <td>av Jessica Rosencrantz (M)</td>\n",
              "      <td>NU</td>\n",
              "      <td>Enskild motion</td>\n",
              "      <td>4386185</td>\n",
              "      <td>0</td>\n",
              "      <td>...</td>\n",
              "      <td>0</td>\n",
              "      <td>0</td>\n",
              "      <td>0</td>\n",
              "      <td>0</td>\n",
              "      <td>1</td>\n",
              "      <td>0</td>\n",
              "      <td>0</td>\n",
              "      <td>1</td>\n",
              "      <td>M</td>\n",
              "      <td>True</td>\n",
              "    </tr>\n",
              "  </tbody>\n",
              "</table>\n",
              "<p>29851 rows × 21 columns</p>\n",
              "</div>\n",
              "    <div class=\"colab-df-buttons\">\n",
              "\n",
              "  <div class=\"colab-df-container\">\n",
              "    <button class=\"colab-df-convert\" onclick=\"convertToInteractive('df-dc11b082-75db-4d0b-a47e-e607474cecb2')\"\n",
              "            title=\"Convert this dataframe to an interactive table.\"\n",
              "            style=\"display:none;\">\n",
              "\n",
              "  <svg xmlns=\"http://www.w3.org/2000/svg\" height=\"24px\" viewBox=\"0 -960 960 960\">\n",
              "    <path d=\"M120-120v-720h720v720H120Zm60-500h600v-160H180v160Zm220 220h160v-160H400v160Zm0 220h160v-160H400v160ZM180-400h160v-160H180v160Zm440 0h160v-160H620v160ZM180-180h160v-160H180v160Zm440 0h160v-160H620v160Z\"/>\n",
              "  </svg>\n",
              "    </button>\n",
              "\n",
              "  <style>\n",
              "    .colab-df-container {\n",
              "      display:flex;\n",
              "      gap: 12px;\n",
              "    }\n",
              "\n",
              "    .colab-df-convert {\n",
              "      background-color: #E8F0FE;\n",
              "      border: none;\n",
              "      border-radius: 50%;\n",
              "      cursor: pointer;\n",
              "      display: none;\n",
              "      fill: #1967D2;\n",
              "      height: 32px;\n",
              "      padding: 0 0 0 0;\n",
              "      width: 32px;\n",
              "    }\n",
              "\n",
              "    .colab-df-convert:hover {\n",
              "      background-color: #E2EBFA;\n",
              "      box-shadow: 0px 1px 2px rgba(60, 64, 67, 0.3), 0px 1px 3px 1px rgba(60, 64, 67, 0.15);\n",
              "      fill: #174EA6;\n",
              "    }\n",
              "\n",
              "    .colab-df-buttons div {\n",
              "      margin-bottom: 4px;\n",
              "    }\n",
              "\n",
              "    [theme=dark] .colab-df-convert {\n",
              "      background-color: #3B4455;\n",
              "      fill: #D2E3FC;\n",
              "    }\n",
              "\n",
              "    [theme=dark] .colab-df-convert:hover {\n",
              "      background-color: #434B5C;\n",
              "      box-shadow: 0px 1px 3px 1px rgba(0, 0, 0, 0.15);\n",
              "      filter: drop-shadow(0px 1px 2px rgba(0, 0, 0, 0.3));\n",
              "      fill: #FFFFFF;\n",
              "    }\n",
              "  </style>\n",
              "\n",
              "    <script>\n",
              "      const buttonEl =\n",
              "        document.querySelector('#df-dc11b082-75db-4d0b-a47e-e607474cecb2 button.colab-df-convert');\n",
              "      buttonEl.style.display =\n",
              "        google.colab.kernel.accessAllowed ? 'block' : 'none';\n",
              "\n",
              "      async function convertToInteractive(key) {\n",
              "        const element = document.querySelector('#df-dc11b082-75db-4d0b-a47e-e607474cecb2');\n",
              "        const dataTable =\n",
              "          await google.colab.kernel.invokeFunction('convertToInteractive',\n",
              "                                                    [key], {});\n",
              "        if (!dataTable) return;\n",
              "\n",
              "        const docLinkHtml = 'Like what you see? Visit the ' +\n",
              "          '<a target=\"_blank\" href=https://colab.research.google.com/notebooks/data_table.ipynb>data table notebook</a>'\n",
              "          + ' to learn more about interactive tables.';\n",
              "        element.innerHTML = '';\n",
              "        dataTable['output_type'] = 'display_data';\n",
              "        await google.colab.output.renderOutput(dataTable, element);\n",
              "        const docLink = document.createElement('div');\n",
              "        docLink.innerHTML = docLinkHtml;\n",
              "        element.appendChild(docLink);\n",
              "      }\n",
              "    </script>\n",
              "  </div>\n",
              "\n",
              "\n",
              "<div id=\"df-639c49d6-2a2b-45a6-8b38-e780f566c821\">\n",
              "  <button class=\"colab-df-quickchart\" onclick=\"quickchart('df-639c49d6-2a2b-45a6-8b38-e780f566c821')\"\n",
              "            title=\"Suggest charts\"\n",
              "            style=\"display:none;\">\n",
              "\n",
              "<svg xmlns=\"http://www.w3.org/2000/svg\" height=\"24px\"viewBox=\"0 0 24 24\"\n",
              "     width=\"24px\">\n",
              "    <g>\n",
              "        <path d=\"M19 3H5c-1.1 0-2 .9-2 2v14c0 1.1.9 2 2 2h14c1.1 0 2-.9 2-2V5c0-1.1-.9-2-2-2zM9 17H7v-7h2v7zm4 0h-2V7h2v10zm4 0h-2v-4h2v4z\"/>\n",
              "    </g>\n",
              "</svg>\n",
              "  </button>\n",
              "\n",
              "<style>\n",
              "  .colab-df-quickchart {\n",
              "      --bg-color: #E8F0FE;\n",
              "      --fill-color: #1967D2;\n",
              "      --hover-bg-color: #E2EBFA;\n",
              "      --hover-fill-color: #174EA6;\n",
              "      --disabled-fill-color: #AAA;\n",
              "      --disabled-bg-color: #DDD;\n",
              "  }\n",
              "\n",
              "  [theme=dark] .colab-df-quickchart {\n",
              "      --bg-color: #3B4455;\n",
              "      --fill-color: #D2E3FC;\n",
              "      --hover-bg-color: #434B5C;\n",
              "      --hover-fill-color: #FFFFFF;\n",
              "      --disabled-bg-color: #3B4455;\n",
              "      --disabled-fill-color: #666;\n",
              "  }\n",
              "\n",
              "  .colab-df-quickchart {\n",
              "    background-color: var(--bg-color);\n",
              "    border: none;\n",
              "    border-radius: 50%;\n",
              "    cursor: pointer;\n",
              "    display: none;\n",
              "    fill: var(--fill-color);\n",
              "    height: 32px;\n",
              "    padding: 0;\n",
              "    width: 32px;\n",
              "  }\n",
              "\n",
              "  .colab-df-quickchart:hover {\n",
              "    background-color: var(--hover-bg-color);\n",
              "    box-shadow: 0 1px 2px rgba(60, 64, 67, 0.3), 0 1px 3px 1px rgba(60, 64, 67, 0.15);\n",
              "    fill: var(--button-hover-fill-color);\n",
              "  }\n",
              "\n",
              "  .colab-df-quickchart-complete:disabled,\n",
              "  .colab-df-quickchart-complete:disabled:hover {\n",
              "    background-color: var(--disabled-bg-color);\n",
              "    fill: var(--disabled-fill-color);\n",
              "    box-shadow: none;\n",
              "  }\n",
              "\n",
              "  .colab-df-spinner {\n",
              "    border: 2px solid var(--fill-color);\n",
              "    border-color: transparent;\n",
              "    border-bottom-color: var(--fill-color);\n",
              "    animation:\n",
              "      spin 1s steps(1) infinite;\n",
              "  }\n",
              "\n",
              "  @keyframes spin {\n",
              "    0% {\n",
              "      border-color: transparent;\n",
              "      border-bottom-color: var(--fill-color);\n",
              "      border-left-color: var(--fill-color);\n",
              "    }\n",
              "    20% {\n",
              "      border-color: transparent;\n",
              "      border-left-color: var(--fill-color);\n",
              "      border-top-color: var(--fill-color);\n",
              "    }\n",
              "    30% {\n",
              "      border-color: transparent;\n",
              "      border-left-color: var(--fill-color);\n",
              "      border-top-color: var(--fill-color);\n",
              "      border-right-color: var(--fill-color);\n",
              "    }\n",
              "    40% {\n",
              "      border-color: transparent;\n",
              "      border-right-color: var(--fill-color);\n",
              "      border-top-color: var(--fill-color);\n",
              "    }\n",
              "    60% {\n",
              "      border-color: transparent;\n",
              "      border-right-color: var(--fill-color);\n",
              "    }\n",
              "    80% {\n",
              "      border-color: transparent;\n",
              "      border-right-color: var(--fill-color);\n",
              "      border-bottom-color: var(--fill-color);\n",
              "    }\n",
              "    90% {\n",
              "      border-color: transparent;\n",
              "      border-bottom-color: var(--fill-color);\n",
              "    }\n",
              "  }\n",
              "</style>\n",
              "\n",
              "  <script>\n",
              "    async function quickchart(key) {\n",
              "      const quickchartButtonEl =\n",
              "        document.querySelector('#' + key + ' button');\n",
              "      quickchartButtonEl.disabled = true;  // To prevent multiple clicks.\n",
              "      quickchartButtonEl.classList.add('colab-df-spinner');\n",
              "      try {\n",
              "        const charts = await google.colab.kernel.invokeFunction(\n",
              "            'suggestCharts', [key], {});\n",
              "      } catch (error) {\n",
              "        console.error('Error during call to suggestCharts:', error);\n",
              "      }\n",
              "      quickchartButtonEl.classList.remove('colab-df-spinner');\n",
              "      quickchartButtonEl.classList.add('colab-df-quickchart-complete');\n",
              "    }\n",
              "    (() => {\n",
              "      let quickchartButtonEl =\n",
              "        document.querySelector('#df-639c49d6-2a2b-45a6-8b38-e780f566c821 button');\n",
              "      quickchartButtonEl.style.display =\n",
              "        google.colab.kernel.accessAllowed ? 'block' : 'none';\n",
              "    })();\n",
              "  </script>\n",
              "</div>\n",
              "    </div>\n",
              "  </div>\n"
            ],
            "text/plain": [
              "         dok_id                                               text      datum  \\\n",
              "0      H9023691  Den svenska gruv- och mineralnäringen var med ... 2021-10-05   \n",
              "1      H6022337  Regeringen beslutade under 2017 att anta en na... 2018-11-29   \n",
              "2      H8023930  Regeringen föreslår genom proposition 2020/21:... 2021-04-07   \n",
              "3        H80268  Under en sommarkväll 2018 misshandlades en per... 2020-09-11   \n",
              "4      H3021446  Företag skapar arbetstillfällen och bidrar til... 2015-10-05   \n",
              "...         ...                                                ...        ...   \n",
              "29846  H9021195  Färjetrafiken till Gotland är öns landsväg, de... 2021-09-30   \n",
              "29847  H5023547  Länge har problemet just varit att Sverige int... 2017-10-05   \n",
              "29848  H2021061  Inför riksdagsvalen går debattens vågor höga. ... 2014-11-07   \n",
              "29849  H5023948  Riksrevisionen riktar mycket allvarlig kritik ... 2018-01-09   \n",
              "29850  H3021050  Delningsekonomin, som innebär att vi delar all... 2015-10-05   \n",
              "\n",
              "                                dokument_url_html  \\\n",
              "0      http://data.riksdagen.se/dokument/H9023691   \n",
              "1      http://data.riksdagen.se/dokument/H6022337   \n",
              "2      http://data.riksdagen.se/dokument/H8023930   \n",
              "3        http://data.riksdagen.se/dokument/H80268   \n",
              "4      http://data.riksdagen.se/dokument/H3021446   \n",
              "...                                           ...   \n",
              "29846  http://data.riksdagen.se/dokument/H9021195   \n",
              "29847  http://data.riksdagen.se/dokument/H5023547   \n",
              "29848  http://data.riksdagen.se/dokument/H2021061   \n",
              "29849  http://data.riksdagen.se/dokument/H5023948   \n",
              "29850  http://data.riksdagen.se/dokument/H3021050   \n",
              "\n",
              "                                                   titel  \\\n",
              "0          En konkurrenskraftig gruvnäring för framtiden   \n",
              "1                        Starkare nationell cykelpolitik   \n",
              "2      med anledning av prop. 2020/21:159 Vissa ident...   \n",
              "3                                  Utvidgad nödvärnsrätt   \n",
              "4                Företagsdag på högstadiet och gymnasiet   \n",
              "...                                                  ...   \n",
              "29846  Statligt ansvar för en reservhamn i Gotlandstr...   \n",
              "29847  Visum och bidragssanktioner mot länder som int...   \n",
              "29848                  Förbättrad kvalitet i valdebatten   \n",
              "29849  med anledning av skr. 2017/18:68 Riksrevisione...   \n",
              "29850                                    Delningsekonomi   \n",
              "\n",
              "                                                subtitel organ  \\\n",
              "0                            av Lars Hjälmered m.fl. (M)    NU   \n",
              "1                                 av Emma Berginger (MP)    TU   \n",
              "2                      av Christina Höj Larsen m.fl. (V)   SfU   \n",
              "3      av Markus Wiechel och Alexander Christiansson ...   JuU   \n",
              "4                                 av Johan Nissinen (SD)   UbU   \n",
              "...                                                  ...   ...   \n",
              "29846                               av Lars Thomsson (C)    TU   \n",
              "29847                               av Kent Ekeroth (SD)   SfU   \n",
              "29848                              av Betty Malmberg (M)    KU   \n",
              "29849  av Stefan Jakobsson och Robert Stenkvist (båda...   UbU   \n",
              "29850                         av Jessica Rosencrantz (M)    NU   \n",
              "\n",
              "               subtyp  hangar_id  authors_V  ...  authors_MP  authors_C  \\\n",
              "0      Kommittémotion    5109435          0  ...           0          0   \n",
              "1      Enskild motion    5012022          0  ...           1          0   \n",
              "2      Kommittémotion    5092870          5  ...           0          0   \n",
              "3      Enskild motion    5066863          0  ...           0          0   \n",
              "4      Enskild motion    4386670          0  ...           0          0   \n",
              "...               ...        ...        ...  ...         ...        ...   \n",
              "29846  Enskild motion    5106758          0  ...           0          1   \n",
              "29847  Enskild motion    4773394          0  ...           0          0   \n",
              "29848  Enskild motion    3111220          0  ...           0          0   \n",
              "29849  Enskild motion    4785744          0  ...           0          0   \n",
              "29850  Enskild motion    4386185          0  ...           0          0   \n",
              "\n",
              "       authors_L  authors_KD  authors_M  authors_SD  authors_independent  \\\n",
              "0              0           0          4           0                    0   \n",
              "1              0           0          0           0                    0   \n",
              "2              0           0          0           0                    0   \n",
              "3              0           0          0           2                    0   \n",
              "4              0           0          0           1                    0   \n",
              "...          ...         ...        ...         ...                  ...   \n",
              "29846          0           0          0           0                    0   \n",
              "29847          0           0          0           1                    0   \n",
              "29848          0           0          1           0                    0   \n",
              "29849          0           0          0           2                    0   \n",
              "29850          0           0          1           0                    0   \n",
              "\n",
              "       nr_authors  party single_party_authors  \n",
              "0               4      M                 True  \n",
              "1               1     MP                 True  \n",
              "2               5      V                 True  \n",
              "3               2     SD                 True  \n",
              "4               1     SD                 True  \n",
              "...           ...    ...                  ...  \n",
              "29846           1      C                 True  \n",
              "29847           1     SD                 True  \n",
              "29848           1      M                 True  \n",
              "29849           2     SD                 True  \n",
              "29850           1      M                 True  \n",
              "\n",
              "[29851 rows x 21 columns]"
            ]
          },
          "execution_count": 1,
          "metadata": {},
          "output_type": "execute_result"
        }
      ],
      "source": [
        "import pandas as pd\n",
        "df = pd.read_parquet(\"motioner_2014_2021.parquet\")\n",
        "print(f\"The dataset consists of a total of {len(df)} motions.\")\n",
        "df # Display only the 5 first rows of the dataframe"
      ]
    },
    {
      "cell_type": "markdown",
      "metadata": {
        "id": "ZUpynRhUIwyd"
      },
      "source": [
        "### Prepare the corpus\n",
        "\n",
        "Before we can get started, we first need to\n",
        "\n",
        "1. create an integer label column we want to classify.\n",
        "2. divide our data into a training and evaluation set.\n",
        "\n",
        "A small proportion of parliamentary motions are also the result of several members of parliament collaborating across party lines. In this guide, we make it simple for ourselves and simply filter out the observations with multiple authors from different political parties.\n",
        "\n",
        "For now, we include only 'enskilda motioner' below.\n",
        "\n",
        "Training can take upwards to 2-3 hours if we include all observations. For this reason we select a subset of the data spanning the last mandate period from 2018-10-01 and forwards."
      ]
    },
    {
      "cell_type": "code",
      "execution_count": 2,
      "metadata": {
        "colab": {
          "base_uri": "https://localhost:8080/",
          "height": 425
        },
        "id": "RLaUGkjsH5FC",
        "outputId": "efa2a60c-07fc-47ce-d6bc-4919992a3af3"
      },
      "outputs": [
        {
          "data": {
            "application/vnd.google.colaboratory.intrinsic+json": {
              "summary": "{\n  \"name\": \"df_train[[\\\"dok_id\\\", \\\"text\\\", \\\"party\\\", \\\"label\\\", \\\"titel\\\", \\\"subtitel\\\"]]\",\n  \"rows\": 19858,\n  \"fields\": [\n    {\n      \"column\": \"dok_id\",\n      \"properties\": {\n        \"dtype\": \"string\",\n        \"num_unique_values\": 19858,\n        \"samples\": [\n          \"H6021548\",\n          \"H3022068\",\n          \"H8022789\"\n        ],\n        \"semantic_type\": \"\",\n        \"description\": \"\"\n      }\n    },\n    {\n      \"column\": \"text\",\n      \"properties\": {\n        \"dtype\": \"string\",\n        \"num_unique_values\": 18396,\n        \"samples\": [\n          \"Vi st\\u00e5r inf\\u00f6r utmaningar inom kompetensomr\\u00e5det samh\\u00e4llsbyggare. Bristen p\\u00e5 kompetens inom infrastruktursektorn har \\u00f6kat under senare \\u00e5r inom s\\u00e5v\\u00e4l h\\u00f6gskoleyrken som andra yrken inom branschen. Detta samtidigt som vi ser en utveckling i regionen med kraftig utbyggnad, viktiga infrastruktursatsningar och m\\u00e5nga nya bost\\u00e4der. F\\u00f6r att kunna m\\u00f6ta den efterfr\\u00e5gan som finns fr\\u00e5n s\\u00e5v\\u00e4l kommuner och regioner som fr\\u00e5n statliga projekt m\\u00e5ste krafttag till f\\u00f6r att inte f\\u00f6rlora i utvecklingspotential. Det r\\u00e5der brist p\\u00e5 arbetskraft i branschen hela v\\u00e4gen fr\\u00e5n planering via projektering till utf\\u00f6rande, vilket beh\\u00f6ver \\u00e5tg\\u00e4rdas f\\u00f6r att klara behoven inom infrastruktursektorn. F\\u00f6r att svara upp mot Stockholm-M\\u00e4lardalsregionens behov av nya v\\u00e4gar, hamnar och j\\u00e4rnv\\u00e4gar beh\\u00f6ver kompetensf\\u00f6rs\\u00f6rjningen inkluderas i b\\u00e5de planeringen av infrastruktur och utbildningar. Tidigare studier som tagits fram bland annat av M\\u00e4lardalsr\\u00e5det har visat att utbildningar inom bristyrken beh\\u00f6ver erbjudas regionalt, n\\u00e4ra bristmarknaden, f\\u00f6r att s\\u00e4kra den regionala kompetensf\\u00f6rs\\u00f6rjningen. F\\u00f6r att l\\u00f6sa kompetensbristen och s\\u00e4kra regionen som tillv\\u00e4xtmotor och en viktig framtida nod i norra Europa beh\\u00f6vs en f\\u00f6rb\\u00e4ttrad m\\u00f6jlighet till samh\\u00e4llsbyggnadsutbildningar i Stockholm-M\\u00e4lardalsregionen.\",\n          \"I en globaliserad v\\u00e4rld m\\u00e5ste erfarenhet och utbyten ske, inte minst inom universiteten och h\\u00f6gskolorna. F\\u00f6r att Sverige ska beh\\u00e5lla sin status som kunskapsnation m\\u00e5ste vi b\\u00e5de attrahera och beh\\u00e5lla utl\\u00e4ndska talanger s\\u00e5som doktorander och g\\u00e4stforskare fr\\u00e5n l\\u00e4nder utanf\\u00f6r EU och EES. F\\u00f6r att dessa ska v\\u00e4lja Sverige i h\\u00f6gre utstr\\u00e4ckning b\\u00f6r handl\\u00e4ggningstiden f\\u00f6r uppeh\\u00e5llstillst\\u00e5nd ses \\u00f6ver och regelf\\u00f6renklingar genomf\\u00f6ras. Tidigare har uppeh\\u00e5llstillst\\u00e5nd f\\u00f6r doktorander som kommer fr\\u00e5n utanf\\u00f6r EU och ESS beviljats p\\u00e5 ett\\u00e5rsbasis. Migrationsverket har efter dialog med l\\u00e4ros\\u00e4ten \\u00e4ndrat regelverket s\\u00e5 att doktorander och g\\u00e4stforskare fr\\u00e5n l\\u00e4nder utanf\\u00f6r EU och EES beviljas uppeh\\u00e5llstillst\\u00e5nd om tv\\u00e5 \\u00e5r ist\\u00e4llet f\\u00f6r ett \\u00e5r, vilket \\u00e4r positivt. Oml\\u00e4ggningen till tv\\u00e5 \\u00e5r har dock inneburit en f\\u00f6rl\\u00e4ngning av hanteringstiden f\\u00f6r \\u00e4renden som r\\u00f6r uppeh\\u00e5llstillst\\u00e5nd. Med erfarenhet fr\\u00e5n tidigare handl\\u00e4ggningstid inom Migrationsverket b\\u00f6r det g\\u00e5 att f\\u00f6renkla och d\\u00e4rmed f\\u00f6rkorta Migrationsverkets handl\\u00e4ggningstider. Nuvarande l\\u00e5nga handl\\u00e4ggningstid skapar os\\u00e4kerhet och oro samtidigt som sv\\u00e5righeter uppst\\u00e5r avseende de r\\u00e4ttigheter och sociala f\\u00f6rm\\u00e5ner som g\\u00e4ller i v\\u00e4ntan p\\u00e5 nytt uppeh\\u00e5llstillst\\u00e5nd. Som exempel kan n\\u00e4mnas ett fall d\\u00e4r en doktorand nekades f\\u00f6r\\u00e4ldrapenning fr\\u00e5n F\\u00f6rs\\u00e4kringskassan p\\u00e5 grund av en l\\u00e5ng handl\\u00e4ggningstid hos Migrationsverket samt p\\u00e5 grund av otydligheter hos F\\u00f6rs\\u00e4kringskassan. Doktoranden som f\\u00f6rst nekades ers\\u00e4ttning beg\\u00e4rde sedan ompr\\u00f6vning av beslutet och fick r\\u00e4tt. Den h\\u00e4r typen av problematik p\\u00e5verkar Sveriges st\\u00e4llning som en avancerad kunskapsnation negativt genom att det bidrar till att g\\u00f6ra det mindre attraktivt att f\\u00f6rl\\u00e4gga doktorandstudier och forskarinsatser till Sverige. I en globaliserad v\\u00e4rld \\u00e4r konkurrensen som allra tuffast om h\\u00f6gspecialiserad kompetens och ska Sverige forts\\u00e4tta vara en ledande v\\u00e4lf\\u00e4rdsnation f\\u00e5r vi inte tappa attraktionskraften till svenska universitet och h\\u00f6gskolor. Ist\\u00e4llet ska vi locka och beh\\u00e5lla kompetenta studenter och forskare. Handl\\u00e4ggningstiderna hos Migrationsverket f\\u00f6r utl\\u00e4ndska doktorander och g\\u00e4stforskare och deras medf\\u00f6ljande b\\u00f6r d\\u00e4rf\\u00f6r prioriteras. Regeringen b\\u00f6r d\\u00e4rf\\u00f6r se \\u00f6ver huruvida det \\u00e4r m\\u00f6jligt att skapa en s\\u00e4rskild och f\\u00f6renklad hanteringsordning p\\u00e5 Migrationsverket f\\u00f6r ans\\u00f6kningar om uppeh\\u00e5llstillst\\u00e5nd fr\\u00e5n utl\\u00e4ndska doktorander och g\\u00e4stforskare s\\u00e5 att dessa kan granskas skyndsamt.\",\n          \"Regeringen har som m\\u00e5l att genomf\\u00f6ra allt fler utvisningar. Det \\u00e4r positivt att regeringen \\u00e4mnar uppr\\u00e4tth\\u00e5lla lagar och regler men d\\u00e5 m\\u00e5ste polisen ocks\\u00e5 f\\u00e5 erforderliga resurser f\\u00f6r att kunna f\\u00f6lja regeringens beslut. I Norrland \\u00e4r gr\\u00e4nspolisens situation n\\u00e4rmast oh\\u00e5llbar p\\u00e5 grund av att Migrationsverkets enda f\\u00f6rvar finns i G\\u00e4vle. I praktiken kan det inneb\\u00e4ra att en enskild polispatrull kan beh\\u00f6va k\\u00f6ra fram och tillbaka mellan exempelvis Kiruna och G\\u00e4vle, \\u00f6ver 200 mil, bara f\\u00f6r att l\\u00e4mna n\\u00e5gon p\\u00e5 f\\u00f6rvaret. I l\\u00e4ngden \\u00e4r inte detta ett effektivt nyttjande av polisens resurser i ett l\\u00e4ge d\\u00e4r organisationen \\u00e4r anstr\\u00e4ngd. Situationen \\u00e4r oh\\u00e5llbar och poliser vittnar om att de tvingats sl\\u00e4ppa personer som ertappats i rutinkontroller. Regeringen b\\u00f6r driva p\\u00e5 fr\\u00e5gan p\\u00e5 ett mer aktivt s\\u00e4tt f\\u00f6r att \\u00e5tg\\u00e4rda situationen och undvika att personer vistas illegalt i Sverige.\"\n        ],\n        \"semantic_type\": \"\",\n        \"description\": \"\"\n      }\n    },\n    {\n      \"column\": \"party\",\n      \"properties\": {\n        \"dtype\": \"category\",\n        \"num_unique_values\": 9,\n        \"samples\": [\n          \"independent\",\n          \"S\",\n          \"MP\"\n        ],\n        \"semantic_type\": \"\",\n        \"description\": \"\"\n      }\n    },\n    {\n      \"column\": \"label\",\n      \"properties\": {\n        \"dtype\": \"number\",\n        \"std\": 2,\n        \"min\": 0,\n        \"max\": 8,\n        \"num_unique_values\": 9,\n        \"samples\": [\n          8,\n          1,\n          2\n        ],\n        \"semantic_type\": \"\",\n        \"description\": \"\"\n      }\n    },\n    {\n      \"column\": \"titel\",\n      \"properties\": {\n        \"dtype\": \"string\",\n        \"num_unique_values\": 14197,\n        \"samples\": [\n          \"V\\u00e4rdet av s\\u00e4llskapsdjur i \\u00e4ldreomsorgen och kriminalv\\u00e5rden\",\n          \"St\\u00e4rkt sjukf\\u00f6rs\\u00e4kring m.m.\",\n          \"Mer l\\u00f6nsamt att ha arbetat \"\n        ],\n        \"semantic_type\": \"\",\n        \"description\": \"\"\n      }\n    },\n    {\n      \"column\": \"subtitel\",\n      \"properties\": {\n        \"dtype\": \"category\",\n        \"num_unique_values\": 2429,\n        \"samples\": [\n          \"av Niklas Karlsson och Elin Gustafsson (b\\u00e5da S)\",\n          \"av Jessika Roswall och Marta Obminska (b\\u00e5da M)\",\n          \"av Lennart Axelsson m.fl. (S)\"\n        ],\n        \"semantic_type\": \"\",\n        \"description\": \"\"\n      }\n    }\n  ]\n}",
              "type": "dataframe"
            },
            "text/html": [
              "\n",
              "  <div id=\"df-820fa972-444c-4293-a15b-7267a05aa988\" class=\"colab-df-container\">\n",
              "    <div>\n",
              "<style scoped>\n",
              "    .dataframe tbody tr th:only-of-type {\n",
              "        vertical-align: middle;\n",
              "    }\n",
              "\n",
              "    .dataframe tbody tr th {\n",
              "        vertical-align: top;\n",
              "    }\n",
              "\n",
              "    .dataframe thead th {\n",
              "        text-align: right;\n",
              "    }\n",
              "</style>\n",
              "<table border=\"1\" class=\"dataframe\">\n",
              "  <thead>\n",
              "    <tr style=\"text-align: right;\">\n",
              "      <th></th>\n",
              "      <th>dok_id</th>\n",
              "      <th>text</th>\n",
              "      <th>party</th>\n",
              "      <th>label</th>\n",
              "      <th>titel</th>\n",
              "      <th>subtitel</th>\n",
              "    </tr>\n",
              "  </thead>\n",
              "  <tbody>\n",
              "    <tr>\n",
              "      <th>14824</th>\n",
              "      <td>H9023140</td>\n",
              "      <td>LSS (lagen om stöd och service till vissa funk...</td>\n",
              "      <td>M</td>\n",
              "      <td>5</td>\n",
              "      <td>Statligt övertagande av LSS</td>\n",
              "      <td>av Ann-Sofie Lifvenhage (M)</td>\n",
              "    </tr>\n",
              "    <tr>\n",
              "      <th>4749</th>\n",
              "      <td>H502826</td>\n",
              "      <td>Arbete åt alla är grunden för välfärdssamhälle...</td>\n",
              "      <td>S</td>\n",
              "      <td>1</td>\n",
              "      <td>Statliga insatser för ett aktivt näringsliv</td>\n",
              "      <td>av Pia Nilsson m.fl. (S)</td>\n",
              "    </tr>\n",
              "    <tr>\n",
              "      <th>7832</th>\n",
              "      <td>H8022446</td>\n",
              "      <td>I Sverige finns cirka 30 science parks med oli...</td>\n",
              "      <td>S</td>\n",
              "      <td>1</td>\n",
              "      <td>Långsiktiga förutsättningar för Science Parks</td>\n",
              "      <td>av Teresa Carvalho (S)</td>\n",
              "    </tr>\n",
              "    <tr>\n",
              "      <th>337</th>\n",
              "      <td>H602991</td>\n",
              "      <td>Riksväg 53 sammanbinder Eskilstuna och Nyköpin...</td>\n",
              "      <td>M</td>\n",
              "      <td>5</td>\n",
              "      <td>Bygg ut riksväg 53 mellan Eskilstuna och Nyköping</td>\n",
              "      <td>av Erik Bengtzboe (M)</td>\n",
              "    </tr>\n",
              "    <tr>\n",
              "      <th>16836</th>\n",
              "      <td>H6021071</td>\n",
              "      <td>Sedan 1967 ockuperar Israel östra Jerusalem oc...</td>\n",
              "      <td>S</td>\n",
              "      <td>1</td>\n",
              "      <td>Märk varor från ockuperade områden</td>\n",
              "      <td>av Magnus Manhammar (S)</td>\n",
              "    </tr>\n",
              "    <tr>\n",
              "      <th>...</th>\n",
              "      <td>...</td>\n",
              "      <td>...</td>\n",
              "      <td>...</td>\n",
              "      <td>...</td>\n",
              "      <td>...</td>\n",
              "      <td>...</td>\n",
              "    </tr>\n",
              "    <tr>\n",
              "      <th>17041</th>\n",
              "      <td>H702929</td>\n",
              "      <td>En god mun- och tandhälsa är viktigt för livsk...</td>\n",
              "      <td>S</td>\n",
              "      <td>1</td>\n",
              "      <td>Stöd till tandhälsa</td>\n",
              "      <td>av Patrik Engström m.fl. (S)</td>\n",
              "    </tr>\n",
              "    <tr>\n",
              "      <th>3812</th>\n",
              "      <td>H602748</td>\n",
              "      <td>Många konsumenter är idag intresserade av vari...</td>\n",
              "      <td>S</td>\n",
              "      <td>1</td>\n",
              "      <td>Obligatorisk ursprungsmärkning av kött på rest...</td>\n",
              "      <td>av Johan Löfstrand m.fl. (S)</td>\n",
              "    </tr>\n",
              "    <tr>\n",
              "      <th>19736</th>\n",
              "      <td>H602992</td>\n",
              "      <td>Varje år genomförs över 700 organdonationer i ...</td>\n",
              "      <td>M</td>\n",
              "      <td>5</td>\n",
              "      <td>Inför en anmälan till donationsregistret via d...</td>\n",
              "      <td>av Erik Bengtzboe (M)</td>\n",
              "    </tr>\n",
              "    <tr>\n",
              "      <th>18770</th>\n",
              "      <td>H6022297</td>\n",
              "      <td>Sammanfattning. Kampen för de mänskliga rättig...</td>\n",
              "      <td>MP</td>\n",
              "      <td>2</td>\n",
              "      <td>Nya reformer för hbtq-personers rättigheter</td>\n",
              "      <td>av Åsa Lindhagen m.fl. (MP)</td>\n",
              "    </tr>\n",
              "    <tr>\n",
              "      <th>13932</th>\n",
              "      <td>H4022525</td>\n",
              "      <td>Idag finns det en stor mängd olika system för ...</td>\n",
              "      <td>SD</td>\n",
              "      <td>7</td>\n",
              "      <td>Nationellt journalsystem för en bättre sjukvård</td>\n",
              "      <td>av Markus Wiechel och Jennie Åfeldt (båda SD)</td>\n",
              "    </tr>\n",
              "  </tbody>\n",
              "</table>\n",
              "<p>19858 rows × 6 columns</p>\n",
              "</div>\n",
              "    <div class=\"colab-df-buttons\">\n",
              "\n",
              "  <div class=\"colab-df-container\">\n",
              "    <button class=\"colab-df-convert\" onclick=\"convertToInteractive('df-820fa972-444c-4293-a15b-7267a05aa988')\"\n",
              "            title=\"Convert this dataframe to an interactive table.\"\n",
              "            style=\"display:none;\">\n",
              "\n",
              "  <svg xmlns=\"http://www.w3.org/2000/svg\" height=\"24px\" viewBox=\"0 -960 960 960\">\n",
              "    <path d=\"M120-120v-720h720v720H120Zm60-500h600v-160H180v160Zm220 220h160v-160H400v160Zm0 220h160v-160H400v160ZM180-400h160v-160H180v160Zm440 0h160v-160H620v160ZM180-180h160v-160H180v160Zm440 0h160v-160H620v160Z\"/>\n",
              "  </svg>\n",
              "    </button>\n",
              "\n",
              "  <style>\n",
              "    .colab-df-container {\n",
              "      display:flex;\n",
              "      gap: 12px;\n",
              "    }\n",
              "\n",
              "    .colab-df-convert {\n",
              "      background-color: #E8F0FE;\n",
              "      border: none;\n",
              "      border-radius: 50%;\n",
              "      cursor: pointer;\n",
              "      display: none;\n",
              "      fill: #1967D2;\n",
              "      height: 32px;\n",
              "      padding: 0 0 0 0;\n",
              "      width: 32px;\n",
              "    }\n",
              "\n",
              "    .colab-df-convert:hover {\n",
              "      background-color: #E2EBFA;\n",
              "      box-shadow: 0px 1px 2px rgba(60, 64, 67, 0.3), 0px 1px 3px 1px rgba(60, 64, 67, 0.15);\n",
              "      fill: #174EA6;\n",
              "    }\n",
              "\n",
              "    .colab-df-buttons div {\n",
              "      margin-bottom: 4px;\n",
              "    }\n",
              "\n",
              "    [theme=dark] .colab-df-convert {\n",
              "      background-color: #3B4455;\n",
              "      fill: #D2E3FC;\n",
              "    }\n",
              "\n",
              "    [theme=dark] .colab-df-convert:hover {\n",
              "      background-color: #434B5C;\n",
              "      box-shadow: 0px 1px 3px 1px rgba(0, 0, 0, 0.15);\n",
              "      filter: drop-shadow(0px 1px 2px rgba(0, 0, 0, 0.3));\n",
              "      fill: #FFFFFF;\n",
              "    }\n",
              "  </style>\n",
              "\n",
              "    <script>\n",
              "      const buttonEl =\n",
              "        document.querySelector('#df-820fa972-444c-4293-a15b-7267a05aa988 button.colab-df-convert');\n",
              "      buttonEl.style.display =\n",
              "        google.colab.kernel.accessAllowed ? 'block' : 'none';\n",
              "\n",
              "      async function convertToInteractive(key) {\n",
              "        const element = document.querySelector('#df-820fa972-444c-4293-a15b-7267a05aa988');\n",
              "        const dataTable =\n",
              "          await google.colab.kernel.invokeFunction('convertToInteractive',\n",
              "                                                    [key], {});\n",
              "        if (!dataTable) return;\n",
              "\n",
              "        const docLinkHtml = 'Like what you see? Visit the ' +\n",
              "          '<a target=\"_blank\" href=https://colab.research.google.com/notebooks/data_table.ipynb>data table notebook</a>'\n",
              "          + ' to learn more about interactive tables.';\n",
              "        element.innerHTML = '';\n",
              "        dataTable['output_type'] = 'display_data';\n",
              "        await google.colab.output.renderOutput(dataTable, element);\n",
              "        const docLink = document.createElement('div');\n",
              "        docLink.innerHTML = docLinkHtml;\n",
              "        element.appendChild(docLink);\n",
              "      }\n",
              "    </script>\n",
              "  </div>\n",
              "\n",
              "\n",
              "<div id=\"df-b965f3d6-2c25-43ec-8808-e5e2e69b5302\">\n",
              "  <button class=\"colab-df-quickchart\" onclick=\"quickchart('df-b965f3d6-2c25-43ec-8808-e5e2e69b5302')\"\n",
              "            title=\"Suggest charts\"\n",
              "            style=\"display:none;\">\n",
              "\n",
              "<svg xmlns=\"http://www.w3.org/2000/svg\" height=\"24px\"viewBox=\"0 0 24 24\"\n",
              "     width=\"24px\">\n",
              "    <g>\n",
              "        <path d=\"M19 3H5c-1.1 0-2 .9-2 2v14c0 1.1.9 2 2 2h14c1.1 0 2-.9 2-2V5c0-1.1-.9-2-2-2zM9 17H7v-7h2v7zm4 0h-2V7h2v10zm4 0h-2v-4h2v4z\"/>\n",
              "    </g>\n",
              "</svg>\n",
              "  </button>\n",
              "\n",
              "<style>\n",
              "  .colab-df-quickchart {\n",
              "      --bg-color: #E8F0FE;\n",
              "      --fill-color: #1967D2;\n",
              "      --hover-bg-color: #E2EBFA;\n",
              "      --hover-fill-color: #174EA6;\n",
              "      --disabled-fill-color: #AAA;\n",
              "      --disabled-bg-color: #DDD;\n",
              "  }\n",
              "\n",
              "  [theme=dark] .colab-df-quickchart {\n",
              "      --bg-color: #3B4455;\n",
              "      --fill-color: #D2E3FC;\n",
              "      --hover-bg-color: #434B5C;\n",
              "      --hover-fill-color: #FFFFFF;\n",
              "      --disabled-bg-color: #3B4455;\n",
              "      --disabled-fill-color: #666;\n",
              "  }\n",
              "\n",
              "  .colab-df-quickchart {\n",
              "    background-color: var(--bg-color);\n",
              "    border: none;\n",
              "    border-radius: 50%;\n",
              "    cursor: pointer;\n",
              "    display: none;\n",
              "    fill: var(--fill-color);\n",
              "    height: 32px;\n",
              "    padding: 0;\n",
              "    width: 32px;\n",
              "  }\n",
              "\n",
              "  .colab-df-quickchart:hover {\n",
              "    background-color: var(--hover-bg-color);\n",
              "    box-shadow: 0 1px 2px rgba(60, 64, 67, 0.3), 0 1px 3px 1px rgba(60, 64, 67, 0.15);\n",
              "    fill: var(--button-hover-fill-color);\n",
              "  }\n",
              "\n",
              "  .colab-df-quickchart-complete:disabled,\n",
              "  .colab-df-quickchart-complete:disabled:hover {\n",
              "    background-color: var(--disabled-bg-color);\n",
              "    fill: var(--disabled-fill-color);\n",
              "    box-shadow: none;\n",
              "  }\n",
              "\n",
              "  .colab-df-spinner {\n",
              "    border: 2px solid var(--fill-color);\n",
              "    border-color: transparent;\n",
              "    border-bottom-color: var(--fill-color);\n",
              "    animation:\n",
              "      spin 1s steps(1) infinite;\n",
              "  }\n",
              "\n",
              "  @keyframes spin {\n",
              "    0% {\n",
              "      border-color: transparent;\n",
              "      border-bottom-color: var(--fill-color);\n",
              "      border-left-color: var(--fill-color);\n",
              "    }\n",
              "    20% {\n",
              "      border-color: transparent;\n",
              "      border-left-color: var(--fill-color);\n",
              "      border-top-color: var(--fill-color);\n",
              "    }\n",
              "    30% {\n",
              "      border-color: transparent;\n",
              "      border-left-color: var(--fill-color);\n",
              "      border-top-color: var(--fill-color);\n",
              "      border-right-color: var(--fill-color);\n",
              "    }\n",
              "    40% {\n",
              "      border-color: transparent;\n",
              "      border-right-color: var(--fill-color);\n",
              "      border-top-color: var(--fill-color);\n",
              "    }\n",
              "    60% {\n",
              "      border-color: transparent;\n",
              "      border-right-color: var(--fill-color);\n",
              "    }\n",
              "    80% {\n",
              "      border-color: transparent;\n",
              "      border-right-color: var(--fill-color);\n",
              "      border-bottom-color: var(--fill-color);\n",
              "    }\n",
              "    90% {\n",
              "      border-color: transparent;\n",
              "      border-bottom-color: var(--fill-color);\n",
              "    }\n",
              "  }\n",
              "</style>\n",
              "\n",
              "  <script>\n",
              "    async function quickchart(key) {\n",
              "      const quickchartButtonEl =\n",
              "        document.querySelector('#' + key + ' button');\n",
              "      quickchartButtonEl.disabled = true;  // To prevent multiple clicks.\n",
              "      quickchartButtonEl.classList.add('colab-df-spinner');\n",
              "      try {\n",
              "        const charts = await google.colab.kernel.invokeFunction(\n",
              "            'suggestCharts', [key], {});\n",
              "      } catch (error) {\n",
              "        console.error('Error during call to suggestCharts:', error);\n",
              "      }\n",
              "      quickchartButtonEl.classList.remove('colab-df-spinner');\n",
              "      quickchartButtonEl.classList.add('colab-df-quickchart-complete');\n",
              "    }\n",
              "    (() => {\n",
              "      let quickchartButtonEl =\n",
              "        document.querySelector('#df-b965f3d6-2c25-43ec-8808-e5e2e69b5302 button');\n",
              "      quickchartButtonEl.style.display =\n",
              "        google.colab.kernel.accessAllowed ? 'block' : 'none';\n",
              "    })();\n",
              "  </script>\n",
              "</div>\n",
              "    </div>\n",
              "  </div>\n"
            ],
            "text/plain": [
              "         dok_id                                               text party  \\\n",
              "14824  H9023140  LSS (lagen om stöd och service till vissa funk...     M   \n",
              "4749    H502826  Arbete åt alla är grunden för välfärdssamhälle...     S   \n",
              "7832   H8022446  I Sverige finns cirka 30 science parks med oli...     S   \n",
              "337     H602991  Riksväg 53 sammanbinder Eskilstuna och Nyköpin...     M   \n",
              "16836  H6021071  Sedan 1967 ockuperar Israel östra Jerusalem oc...     S   \n",
              "...         ...                                                ...   ...   \n",
              "17041   H702929  En god mun- och tandhälsa är viktigt för livsk...     S   \n",
              "3812    H602748  Många konsumenter är idag intresserade av vari...     S   \n",
              "19736   H602992  Varje år genomförs över 700 organdonationer i ...     M   \n",
              "18770  H6022297  Sammanfattning. Kampen för de mänskliga rättig...    MP   \n",
              "13932  H4022525  Idag finns det en stor mängd olika system för ...    SD   \n",
              "\n",
              "       label                                              titel  \\\n",
              "14824      5                        Statligt övertagande av LSS   \n",
              "4749       1        Statliga insatser för ett aktivt näringsliv   \n",
              "7832       1      Långsiktiga förutsättningar för Science Parks   \n",
              "337        5  Bygg ut riksväg 53 mellan Eskilstuna och Nyköping   \n",
              "16836      1                 Märk varor från ockuperade områden   \n",
              "...      ...                                                ...   \n",
              "17041      1                                Stöd till tandhälsa   \n",
              "3812       1  Obligatorisk ursprungsmärkning av kött på rest...   \n",
              "19736      5  Inför en anmälan till donationsregistret via d...   \n",
              "18770      2        Nya reformer för hbtq-personers rättigheter   \n",
              "13932      7    Nationellt journalsystem för en bättre sjukvård   \n",
              "\n",
              "                                            subtitel  \n",
              "14824                    av Ann-Sofie Lifvenhage (M)  \n",
              "4749                        av Pia Nilsson m.fl. (S)  \n",
              "7832                          av Teresa Carvalho (S)  \n",
              "337                            av Erik Bengtzboe (M)  \n",
              "16836                        av Magnus Manhammar (S)  \n",
              "...                                              ...  \n",
              "17041                   av Patrik Engström m.fl. (S)  \n",
              "3812                    av Johan Löfstrand m.fl. (S)  \n",
              "19736                          av Erik Bengtzboe (M)  \n",
              "18770                    av Åsa Lindhagen m.fl. (MP)  \n",
              "13932  av Markus Wiechel och Jennie Åfeldt (båda SD)  \n",
              "\n",
              "[19858 rows x 6 columns]"
            ]
          },
          "execution_count": 2,
          "metadata": {},
          "output_type": "execute_result"
        }
      ],
      "source": [
        "df = df[df[\"datum\"] >= \"2018-10-01\"].reset_index(drop=True)\n",
        "df = df[df[\"single_party_authors\"] == True].reset_index(drop=True)\n",
        "df = df[df[\"subtyp\"] == \"Enskild motion\"] # Filter to keep only enskilda motioner\n",
        "label_mapping = {\n",
        "    0: \"V\",\n",
        "    1: \"S\",\n",
        "    2: \"MP\",\n",
        "    3: \"C\",\n",
        "    4: \"L\",\n",
        "    5: \"M\",\n",
        "    6: \"KD\",\n",
        "    7: \"SD\",\n",
        "    8: \"independent\",\n",
        "}\n",
        "label_mapping = {v: k for k, v in label_mapping.items()} # Reverse key/value\n",
        "df[\"label\"] = df[\"party\"].map(label_mapping)\n",
        "df = df.reset_index(drop=True)\n",
        "\n",
        "df_train = df.sample(frac=0.85, random_state=5)\n",
        "df_valid = df.drop(df_train.index)\n",
        "\n",
        "df_train[[\"dok_id\", \"text\", \"party\", \"label\", \"titel\", \"subtitel\"]]"
      ]
    },
    {
      "cell_type": "markdown",
      "metadata": {
        "id": "CRPYNOkKVYAe"
      },
      "source": [
        "### Creating a Pytorch Dataset\n",
        "\n",
        "Pytorch recommends separating your dataset code from your modeling code. They provide two \"data primitives\" to help the user do this: the [`Dataset` class and the `DataLoader`](https://pytorch.org/tutorials/beginner/basics/data_tutorial.html#datasets-dataloaders).\n",
        "\n",
        "* The `Dataset` is a way of defining how to fetch and sample our dataset's variables and labels one by one.\n",
        "* The `DataLoader` is an abstraction that parallelizes the loading of samples from your `Dataset`, ensuring samples are continuously fetched in advance in separate processes, and passed to your model (e.g. if running on a GPU) without it having to pause and wait for the CPU to finish loading a new batch/sample each iteration.\n",
        "\n",
        "We start with writing a `Dataset` class for our setting. Every dataset class should *always* have the methods `__init__`, `__len__` and `__getitem__`. Their purpose is briefly explained in the comments of the example custom Dataset class implementation below, but you may also read about them in Pytorch's [guide on Datasets and DataLoaders](https://pytorch.org/tutorials/beginner/basics/data_tutorial.html#init).\n",
        "\n",
        "```python\n",
        "from torch.utils.data import Dataset\n",
        "\n",
        "class MyCustomDataset(Dataset):\n",
        "    def __init__(self, my_texts, my_labels):\n",
        "        # Instance attributes that are shared and can be used in other methods\n",
        "        # of the class by writing self.attribute_name .\n",
        "        # Only run once, when the Dataset is instantiated.\n",
        "        self.my_texts = my_texts\n",
        "        self.my_labels = my_labels\n",
        "        self.tokenizer = AutoTokenizer.from_pretrained(\"KBLab/bert-base-swedish-cased\")\n",
        "\n",
        "    def __len__(self):\n",
        "        # A way of telling the class how many observations there are in\n",
        "        # your dataset. So that it knows the range of indices it can sample.\n",
        "        return len(self.my_texts)\n",
        "\n",
        "    def __getitem__(self, index):\n",
        "        # Where we load and return a sample. __getitem__ is called whenever\n",
        "        # we use indexing on our dataset, e.g. mydataset[13], mydataset[0], etc\n",
        "        # \"index\" changes each iteration.\n",
        "        text_selected_obs = self.my_texts[index]\n",
        "        label_selected_obs = self.my_labels[index]\n",
        "\n",
        "        # Tokenize the text (can be done outside Dataset too).\n",
        "        # Pads to the model's maximum allowed sequence length if shorter.\n",
        "        tokenized_text = self.tokenizer(\n",
        "            text_selected_obs, padding=\"max_length\", truncation=True, return_tensors=\"pt\",\n",
        "        )\n",
        "\n",
        "        # tokenized_text is a dictionary, so we squeeze in the label\n",
        "        # as an entry there as well, and just return everything as a\n",
        "        # single object.\n",
        "        tokenized_text[\"label\"] = torch.tensor(label_selected_obs)\n",
        "\n",
        "        return tokenized_text\n",
        "\n",
        "```\n",
        "\n",
        "Let's create our own Dataset class for the parliamentary motions below. We'll name it `MotionerDataset`, and make it simple for ourselves by passing our entire dataframe as input:"
      ]
    },
    {
      "cell_type": "code",
      "execution_count": 3,
      "metadata": {
        "id": "qmqTeuaAMDxS"
      },
      "outputs": [],
      "source": [
        "import torch\n",
        "from transformers import AutoTokenizer\n",
        "from torch.utils.data import Dataset\n",
        "class MotionerDataset(Dataset):\n",
        "    def __init__(self, df):\n",
        "        self.df = df\n",
        "        self.tokenizer = AutoTokenizer.from_pretrained(\"KBLab/bert-base-swedish-cased\")\n",
        "\n",
        "    def __len__(self):\n",
        "        return len(self.df)\n",
        "\n",
        "    def __getitem__(self, index):\n",
        "        df_row = self.df.iloc[index]\n",
        "\n",
        "        label = df_row[\"label\"]\n",
        "        text = df_row[\"text\"]\n",
        "\n",
        "        # padding=\"max_length\" pads to the models maximum allowed length.\n",
        "        # Only do this if you expect most texts to be as long or longer than\n",
        "        # the maximum sequence length of the model (512 tokens in this case).\n",
        "        # We truncate if the sequence is too long.\n",
        "        tokenized_text = self.tokenizer(\n",
        "            text, padding=\"max_length\", max_length=512, truncation=True, return_tensors=\"pt\",\n",
        "        )\n",
        "\n",
        "        label = torch.tensor(label)\n",
        "        tokenized_text[\"label\"] = label\n",
        "\n",
        "        return tokenized_text"
      ]
    },
    {
      "cell_type": "markdown",
      "metadata": {
        "id": "zIPajP6bk1rP"
      },
      "source": [
        "Let's instantiate our dataset and see what it returns."
      ]
    },
    {
      "cell_type": "code",
      "execution_count": 4,
      "metadata": {
        "colab": {
          "base_uri": "https://localhost:8080/"
        },
        "id": "AnY3z3WlVSaG",
        "outputId": "9527472d-5c57-48c1-e5e9-a878d74d70ad"
      },
      "outputs": [
        {
          "name": "stderr",
          "output_type": "stream",
          "text": [
            "/usr/local/lib/python3.10/dist-packages/huggingface_hub/utils/_token.py:89: UserWarning: \n",
            "The secret `HF_TOKEN` does not exist in your Colab secrets.\n",
            "To authenticate with the Hugging Face Hub, create a token in your settings tab (https://huggingface.co/settings/tokens), set it as secret in your Google Colab and restart your session.\n",
            "You will be able to reuse this secret in all of your notebooks.\n",
            "Please note that authentication is recommended but still optional to access public models or datasets.\n",
            "  warnings.warn(\n"
          ]
        },
        {
          "data": {
            "text/plain": [
              "{'input_ids': tensor([[    2, 44885,   177,  3661,   100,  1839,    36,  3239,    76,  1779,\n",
              "         39448, 28079,   171,  4374,   408,    48, 13407,    31, 17009,    68,\n",
              "         10379,  1251,  3156,    76,   137,   875,   635,     7,   982, 16813,\n",
              "             5,    65,  3661,   108,   137,  8147,  9689,  1276, 11098,     7,\n",
              "          2819,   845,    48, 46875, 30307,     9,    36,  6198,    43, 44885,\n",
              "         10397,  1382,   594,   829,  5246,    68,   137, 20968,   692,     7,\n",
              "          1478,    54, 36917,    31,   137, 11397,    36,  2910,  2335,   256,\n",
              "           440,   326,   331,  2477,    48,  5579,    36,  8545,    36,   256,\n",
              "          3661,   108,   369,  3418,    43,  1427,    66, 25894,  2373,     7,\n",
              "         47405, 25327,    54,   621,  1905,   802,  4352,    43,   137,  8147,\n",
              "         10379,  2477,    76, 13047,    19, 32776,    36,  7315,    31,  3508,\n",
              "             7,  2861,   403, 49397,  2701,    43,    97,   292,    65,  7394,\n",
              "         25327,    67,   346,    54,   137, 19042,  1494,  5047,   203,     7,\n",
              "           848,   137, 14189,  5902,  1494,    36,    59,  1396,    67,  3689,\n",
              "         20257,    36,  6121,   397,   127, 20257,    31, 18394,   594,   829,\n",
              "         12560, 46030,     7,     3,     0,     0,     0,     0,     0,     0,\n",
              "             0,     0,     0,     0,     0,     0,     0,     0,     0,     0,\n",
              "             0,     0,     0,     0,     0,     0,     0,     0,     0,     0,\n",
              "             0,     0,     0,     0,     0,     0,     0,     0,     0,     0,\n",
              "             0,     0,     0,     0,     0,     0,     0,     0,     0,     0,\n",
              "             0,     0,     0,     0,     0,     0,     0,     0,     0,     0,\n",
              "             0,     0,     0,     0,     0,     0,     0,     0,     0,     0,\n",
              "             0,     0,     0,     0,     0,     0,     0,     0,     0,     0,\n",
              "             0,     0,     0,     0,     0,     0,     0,     0,     0,     0,\n",
              "             0,     0,     0,     0,     0,     0,     0,     0,     0,     0,\n",
              "             0,     0,     0,     0,     0,     0,     0,     0,     0,     0,\n",
              "             0,     0,     0,     0,     0,     0,     0,     0,     0,     0,\n",
              "             0,     0,     0,     0,     0,     0,     0,     0,     0,     0,\n",
              "             0,     0,     0,     0,     0,     0,     0,     0,     0,     0,\n",
              "             0,     0,     0,     0,     0,     0,     0,     0,     0,     0,\n",
              "             0,     0,     0,     0,     0,     0,     0,     0,     0,     0,\n",
              "             0,     0,     0,     0,     0,     0,     0,     0,     0,     0,\n",
              "             0,     0,     0,     0,     0,     0,     0,     0,     0,     0,\n",
              "             0,     0,     0,     0,     0,     0,     0,     0,     0,     0,\n",
              "             0,     0,     0,     0,     0,     0,     0,     0,     0,     0,\n",
              "             0,     0,     0,     0,     0,     0,     0,     0,     0,     0,\n",
              "             0,     0,     0,     0,     0,     0,     0,     0,     0,     0,\n",
              "             0,     0,     0,     0,     0,     0,     0,     0,     0,     0,\n",
              "             0,     0,     0,     0,     0,     0,     0,     0,     0,     0,\n",
              "             0,     0,     0,     0,     0,     0,     0,     0,     0,     0,\n",
              "             0,     0,     0,     0,     0,     0,     0,     0,     0,     0,\n",
              "             0,     0,     0,     0,     0,     0,     0,     0,     0,     0,\n",
              "             0,     0,     0,     0,     0,     0,     0,     0,     0,     0,\n",
              "             0,     0,     0,     0,     0,     0,     0,     0,     0,     0,\n",
              "             0,     0,     0,     0,     0,     0,     0,     0,     0,     0,\n",
              "             0,     0,     0,     0,     0,     0,     0,     0,     0,     0,\n",
              "             0,     0,     0,     0,     0,     0,     0,     0,     0,     0,\n",
              "             0,     0,     0,     0,     0,     0,     0,     0,     0,     0,\n",
              "             0,     0,     0,     0,     0,     0,     0,     0,     0,     0,\n",
              "             0,     0,     0,     0,     0,     0,     0,     0,     0,     0,\n",
              "             0,     0,     0,     0,     0,     0,     0,     0,     0,     0,\n",
              "             0,     0]]), 'token_type_ids': tensor([[0, 0, 0, 0, 0, 0, 0, 0, 0, 0, 0, 0, 0, 0, 0, 0, 0, 0, 0, 0, 0, 0, 0, 0,\n",
              "         0, 0, 0, 0, 0, 0, 0, 0, 0, 0, 0, 0, 0, 0, 0, 0, 0, 0, 0, 0, 0, 0, 0, 0,\n",
              "         0, 0, 0, 0, 0, 0, 0, 0, 0, 0, 0, 0, 0, 0, 0, 0, 0, 0, 0, 0, 0, 0, 0, 0,\n",
              "         0, 0, 0, 0, 0, 0, 0, 0, 0, 0, 0, 0, 0, 0, 0, 0, 0, 0, 0, 0, 0, 0, 0, 0,\n",
              "         0, 0, 0, 0, 0, 0, 0, 0, 0, 0, 0, 0, 0, 0, 0, 0, 0, 0, 0, 0, 0, 0, 0, 0,\n",
              "         0, 0, 0, 0, 0, 0, 0, 0, 0, 0, 0, 0, 0, 0, 0, 0, 0, 0, 0, 0, 0, 0, 0, 0,\n",
              "         0, 0, 0, 0, 0, 0, 0, 0, 0, 0, 0, 0, 0, 0, 0, 0, 0, 0, 0, 0, 0, 0, 0, 0,\n",
              "         0, 0, 0, 0, 0, 0, 0, 0, 0, 0, 0, 0, 0, 0, 0, 0, 0, 0, 0, 0, 0, 0, 0, 0,\n",
              "         0, 0, 0, 0, 0, 0, 0, 0, 0, 0, 0, 0, 0, 0, 0, 0, 0, 0, 0, 0, 0, 0, 0, 0,\n",
              "         0, 0, 0, 0, 0, 0, 0, 0, 0, 0, 0, 0, 0, 0, 0, 0, 0, 0, 0, 0, 0, 0, 0, 0,\n",
              "         0, 0, 0, 0, 0, 0, 0, 0, 0, 0, 0, 0, 0, 0, 0, 0, 0, 0, 0, 0, 0, 0, 0, 0,\n",
              "         0, 0, 0, 0, 0, 0, 0, 0, 0, 0, 0, 0, 0, 0, 0, 0, 0, 0, 0, 0, 0, 0, 0, 0,\n",
              "         0, 0, 0, 0, 0, 0, 0, 0, 0, 0, 0, 0, 0, 0, 0, 0, 0, 0, 0, 0, 0, 0, 0, 0,\n",
              "         0, 0, 0, 0, 0, 0, 0, 0, 0, 0, 0, 0, 0, 0, 0, 0, 0, 0, 0, 0, 0, 0, 0, 0,\n",
              "         0, 0, 0, 0, 0, 0, 0, 0, 0, 0, 0, 0, 0, 0, 0, 0, 0, 0, 0, 0, 0, 0, 0, 0,\n",
              "         0, 0, 0, 0, 0, 0, 0, 0, 0, 0, 0, 0, 0, 0, 0, 0, 0, 0, 0, 0, 0, 0, 0, 0,\n",
              "         0, 0, 0, 0, 0, 0, 0, 0, 0, 0, 0, 0, 0, 0, 0, 0, 0, 0, 0, 0, 0, 0, 0, 0,\n",
              "         0, 0, 0, 0, 0, 0, 0, 0, 0, 0, 0, 0, 0, 0, 0, 0, 0, 0, 0, 0, 0, 0, 0, 0,\n",
              "         0, 0, 0, 0, 0, 0, 0, 0, 0, 0, 0, 0, 0, 0, 0, 0, 0, 0, 0, 0, 0, 0, 0, 0,\n",
              "         0, 0, 0, 0, 0, 0, 0, 0, 0, 0, 0, 0, 0, 0, 0, 0, 0, 0, 0, 0, 0, 0, 0, 0,\n",
              "         0, 0, 0, 0, 0, 0, 0, 0, 0, 0, 0, 0, 0, 0, 0, 0, 0, 0, 0, 0, 0, 0, 0, 0,\n",
              "         0, 0, 0, 0, 0, 0, 0, 0]]), 'attention_mask': tensor([[1, 1, 1, 1, 1, 1, 1, 1, 1, 1, 1, 1, 1, 1, 1, 1, 1, 1, 1, 1, 1, 1, 1, 1,\n",
              "         1, 1, 1, 1, 1, 1, 1, 1, 1, 1, 1, 1, 1, 1, 1, 1, 1, 1, 1, 1, 1, 1, 1, 1,\n",
              "         1, 1, 1, 1, 1, 1, 1, 1, 1, 1, 1, 1, 1, 1, 1, 1, 1, 1, 1, 1, 1, 1, 1, 1,\n",
              "         1, 1, 1, 1, 1, 1, 1, 1, 1, 1, 1, 1, 1, 1, 1, 1, 1, 1, 1, 1, 1, 1, 1, 1,\n",
              "         1, 1, 1, 1, 1, 1, 1, 1, 1, 1, 1, 1, 1, 1, 1, 1, 1, 1, 1, 1, 1, 1, 1, 1,\n",
              "         1, 1, 1, 1, 1, 1, 1, 1, 1, 1, 1, 1, 1, 1, 1, 1, 1, 1, 1, 1, 1, 1, 1, 1,\n",
              "         1, 1, 1, 1, 1, 1, 1, 1, 1, 1, 0, 0, 0, 0, 0, 0, 0, 0, 0, 0, 0, 0, 0, 0,\n",
              "         0, 0, 0, 0, 0, 0, 0, 0, 0, 0, 0, 0, 0, 0, 0, 0, 0, 0, 0, 0, 0, 0, 0, 0,\n",
              "         0, 0, 0, 0, 0, 0, 0, 0, 0, 0, 0, 0, 0, 0, 0, 0, 0, 0, 0, 0, 0, 0, 0, 0,\n",
              "         0, 0, 0, 0, 0, 0, 0, 0, 0, 0, 0, 0, 0, 0, 0, 0, 0, 0, 0, 0, 0, 0, 0, 0,\n",
              "         0, 0, 0, 0, 0, 0, 0, 0, 0, 0, 0, 0, 0, 0, 0, 0, 0, 0, 0, 0, 0, 0, 0, 0,\n",
              "         0, 0, 0, 0, 0, 0, 0, 0, 0, 0, 0, 0, 0, 0, 0, 0, 0, 0, 0, 0, 0, 0, 0, 0,\n",
              "         0, 0, 0, 0, 0, 0, 0, 0, 0, 0, 0, 0, 0, 0, 0, 0, 0, 0, 0, 0, 0, 0, 0, 0,\n",
              "         0, 0, 0, 0, 0, 0, 0, 0, 0, 0, 0, 0, 0, 0, 0, 0, 0, 0, 0, 0, 0, 0, 0, 0,\n",
              "         0, 0, 0, 0, 0, 0, 0, 0, 0, 0, 0, 0, 0, 0, 0, 0, 0, 0, 0, 0, 0, 0, 0, 0,\n",
              "         0, 0, 0, 0, 0, 0, 0, 0, 0, 0, 0, 0, 0, 0, 0, 0, 0, 0, 0, 0, 0, 0, 0, 0,\n",
              "         0, 0, 0, 0, 0, 0, 0, 0, 0, 0, 0, 0, 0, 0, 0, 0, 0, 0, 0, 0, 0, 0, 0, 0,\n",
              "         0, 0, 0, 0, 0, 0, 0, 0, 0, 0, 0, 0, 0, 0, 0, 0, 0, 0, 0, 0, 0, 0, 0, 0,\n",
              "         0, 0, 0, 0, 0, 0, 0, 0, 0, 0, 0, 0, 0, 0, 0, 0, 0, 0, 0, 0, 0, 0, 0, 0,\n",
              "         0, 0, 0, 0, 0, 0, 0, 0, 0, 0, 0, 0, 0, 0, 0, 0, 0, 0, 0, 0, 0, 0, 0, 0,\n",
              "         0, 0, 0, 0, 0, 0, 0, 0, 0, 0, 0, 0, 0, 0, 0, 0, 0, 0, 0, 0, 0, 0, 0, 0,\n",
              "         0, 0, 0, 0, 0, 0, 0, 0]]), 'label': tensor(5)}"
            ]
          },
          "execution_count": 4,
          "metadata": {},
          "output_type": "execute_result"
        }
      ],
      "source": [
        "train_dataset = MotionerDataset(df=df_train)\n",
        "train_dataset[0]"
      ]
    },
    {
      "cell_type": "markdown",
      "metadata": {
        "id": "2xnEkojAqYMi"
      },
      "source": [
        "What do the different dictionary keys mean? And why are there lots of zeroes at the end of our `input_ids`?\n",
        "\n",
        "* `input_ids`: Your tokenized text mapped to integers. The model expects the input as integers, so that it can select the correct row from the vocabulary token embedding matrix. These vectors are what is the actual input to the model. And every single row of the vocabulary embedding matrix maps to a certain token (via the input_id integer of the token).\n",
        "* `token_type_ids`: This is a way of keeping track of the indices of each sequence if we pass multiple texts as a single observation. This exists for BERT mainly because BERT has the pretraining task of `next_sentence_prediction` (two texts are passed as a single sequence), and because sometimes multiple shorter sequences are stacked and passed as one to fill up the maximum sequence length of the model. This is done in order not to waste compute by needlessly padding with 0s. In our case, we only put one text in the input sequence and thus don't need the `token_type_ids` to be able to separate them. We can in fact specify `return_token_type_ids=False` in the tokenizer to let it know that it shouldn't return them.\n",
        "* `attention_mask`: What tokens should the model ignore when computing attentions and losses? We want to ignore `[PAD]` tokens that sometimes need to be added at the end of a sequence to ensure all inputs in a given batch are of the same length/dimensions when passed to the model.\n",
        "* `label`: This is something we ourselves inserted into the dictionary in our `MotionerDataset` before returning it. We will need it later when computing the loss.\n",
        "\n",
        "We can check which tokens the integer `input_ids` map to by using `tokenizer.convert_ids_to_tokens()`. Note that the tokenizer split some words such as \"skyddsskäl\" into \"skydds\" and \"##skäl\". This is made by the tokenizer to reduce the vocabulary size."
      ]
    },
    {
      "cell_type": "code",
      "execution_count": 5,
      "metadata": {
        "id": "8RyNfe-yuMCL"
      },
      "outputs": [],
      "source": [
        "tokenizer = AutoTokenizer.from_pretrained(\"KBLab/bert-base-swedish-cased\")\n",
        "input_ids = train_dataset[0][\"input_ids\"]"
      ]
    },
    {
      "cell_type": "code",
      "execution_count": 6,
      "metadata": {
        "colab": {
          "base_uri": "https://localhost:8080/"
        },
        "id": "f06yM_MkuyVj",
        "outputId": "51a2fd53-986c-43c2-d5b9-1429cab2c8b2"
      },
      "outputs": [
        {
          "name": "stdout",
          "output_type": "stream",
          "text": [
            "['[CLS]', 'LSS', '(', 'lagen', 'om', 'stöd', 'och', 'service', 'till', 'vissa', 'funktionsh', '##indrade', ')', 'lämnar', 'mycket', 'att', 'önska', 'i', 'synen', 'på', 'människors', 'lika', 'möjligheter', 'till', 'ett', 'rikt', 'liv', '.', 'Efter', 'översyn', '##en', 'av', 'lagen', 'har', 'ett', 'flertal', 'brister', 'blivit', 'tydliga', '.', 'Bland', 'annat', 'att', 'bistånds', '##bedömning', '##ar', 'och', 'kostnader', 'för', 'LSS', 'varierar', 'stort', 'mellan', 'olika', 'kommuner', 'på', 'ett', 'anmärkningsvärt', 'sätt', '.', 'Detta', 'är', 'oacceptabelt', 'i', 'ett', 'modernt', 'och', 'öppet', 'samhälle', 'där', 'alla', 'ska', 'ha', 'möjlighet', 'att', 'delta', 'och', 'bidra', 'och', 'där', 'lagen', 'har', 'stor', 'betydelse', 'för', 'personer', 'med', 'funktionsned', '##sättning', '.', 'Personlig', 'assistans', 'är', 'många', 'gånger', 'helt', 'avgörande', 'för', 'ett', 'flertal', 'människors', 'möjlighet', 'till', 'självständighet', ',', 'livskvalitet', 'och', 'inflytande', 'i', 'samhället', '.', 'Därför', 'bör', 'huvudmanna', '##skapet', 'för', 'den', 'del', 'av', 'personlig', 'assistans', 'som', 'nu', 'är', 'ett', 'kommunalt', 'ansvar', 'ses', 'över', '.', 'Med', 'ett', 'statligt', 'ekonomiskt', 'ansvar', 'och', 'en', 'peng', 'som', 'följer', 'individen', 'och', 'beslutet', 'kommer', 'inte', 'individen', 'i', 'kläm', 'mellan', 'olika', 'bostads', '##kommuner', '.', '[SEP]', '[PAD]', '[PAD]', '[PAD]', '[PAD]', '[PAD]', '[PAD]', '[PAD]', '[PAD]', '[PAD]', '[PAD]', '[PAD]', '[PAD]', '[PAD]', '[PAD]', '[PAD]', '[PAD]', '[PAD]', '[PAD]', '[PAD]', '[PAD]', '[PAD]', '[PAD]', '[PAD]', '[PAD]', '[PAD]', '[PAD]', '[PAD]', '[PAD]', '[PAD]', '[PAD]', '[PAD]', '[PAD]', '[PAD]', '[PAD]', '[PAD]', '[PAD]', '[PAD]', '[PAD]', '[PAD]', '[PAD]', '[PAD]', '[PAD]', '[PAD]', '[PAD]', '[PAD]', '[PAD]', '[PAD]', '[PAD]', '[PAD]', '[PAD]', '[PAD]', '[PAD]', '[PAD]', '[PAD]', '[PAD]', '[PAD]', '[PAD]', '[PAD]', '[PAD]', '[PAD]', '[PAD]', '[PAD]', '[PAD]', '[PAD]', '[PAD]', '[PAD]', '[PAD]', '[PAD]', '[PAD]', '[PAD]', '[PAD]', '[PAD]', '[PAD]', '[PAD]', '[PAD]', '[PAD]', '[PAD]', '[PAD]', '[PAD]', '[PAD]', '[PAD]', '[PAD]', '[PAD]', '[PAD]', '[PAD]', '[PAD]', '[PAD]', '[PAD]', '[PAD]', '[PAD]', '[PAD]', '[PAD]', '[PAD]', '[PAD]', '[PAD]', '[PAD]', '[PAD]', '[PAD]', '[PAD]', '[PAD]', '[PAD]', '[PAD]', '[PAD]', '[PAD]', '[PAD]', '[PAD]', '[PAD]', '[PAD]', '[PAD]', '[PAD]', '[PAD]', '[PAD]', '[PAD]', '[PAD]', '[PAD]', '[PAD]', '[PAD]', '[PAD]', '[PAD]', '[PAD]', '[PAD]', '[PAD]', '[PAD]', '[PAD]', '[PAD]', '[PAD]', '[PAD]', '[PAD]', '[PAD]', '[PAD]', '[PAD]', '[PAD]', '[PAD]', '[PAD]', '[PAD]', '[PAD]', '[PAD]', '[PAD]', '[PAD]', '[PAD]', '[PAD]', '[PAD]', '[PAD]', '[PAD]', '[PAD]', '[PAD]', '[PAD]', '[PAD]', '[PAD]', '[PAD]', '[PAD]', '[PAD]', '[PAD]', '[PAD]', '[PAD]', '[PAD]', '[PAD]', '[PAD]', '[PAD]', '[PAD]', '[PAD]', '[PAD]', '[PAD]', '[PAD]', '[PAD]', '[PAD]', '[PAD]', '[PAD]', '[PAD]', '[PAD]', '[PAD]', '[PAD]', '[PAD]', '[PAD]', '[PAD]', '[PAD]', '[PAD]', '[PAD]', '[PAD]', '[PAD]', '[PAD]', '[PAD]', '[PAD]', '[PAD]', '[PAD]', '[PAD]', '[PAD]', '[PAD]', '[PAD]', '[PAD]', '[PAD]', '[PAD]', '[PAD]', '[PAD]', '[PAD]', '[PAD]', '[PAD]', '[PAD]', '[PAD]', '[PAD]', '[PAD]', '[PAD]', '[PAD]', '[PAD]', '[PAD]', '[PAD]', '[PAD]', '[PAD]', '[PAD]', '[PAD]', '[PAD]', '[PAD]', '[PAD]', '[PAD]', '[PAD]', '[PAD]', '[PAD]', '[PAD]', '[PAD]', '[PAD]', '[PAD]', '[PAD]', '[PAD]', '[PAD]', '[PAD]', '[PAD]', '[PAD]', '[PAD]', '[PAD]', '[PAD]', '[PAD]', '[PAD]', '[PAD]', '[PAD]', '[PAD]', '[PAD]', '[PAD]', '[PAD]', '[PAD]', '[PAD]', '[PAD]', '[PAD]', '[PAD]', '[PAD]', '[PAD]', '[PAD]', '[PAD]', '[PAD]', '[PAD]', '[PAD]', '[PAD]', '[PAD]', '[PAD]', '[PAD]', '[PAD]', '[PAD]', '[PAD]', '[PAD]', '[PAD]', '[PAD]', '[PAD]', '[PAD]', '[PAD]', '[PAD]', '[PAD]', '[PAD]', '[PAD]', '[PAD]', '[PAD]', '[PAD]', '[PAD]', '[PAD]', '[PAD]', '[PAD]', '[PAD]', '[PAD]', '[PAD]', '[PAD]', '[PAD]', '[PAD]', '[PAD]', '[PAD]', '[PAD]', '[PAD]', '[PAD]', '[PAD]', '[PAD]', '[PAD]', '[PAD]', '[PAD]', '[PAD]', '[PAD]', '[PAD]', '[PAD]', '[PAD]', '[PAD]', '[PAD]', '[PAD]', '[PAD]', '[PAD]', '[PAD]', '[PAD]', '[PAD]', '[PAD]', '[PAD]', '[PAD]', '[PAD]', '[PAD]', '[PAD]', '[PAD]', '[PAD]', '[PAD]', '[PAD]', '[PAD]', '[PAD]', '[PAD]', '[PAD]', '[PAD]', '[PAD]', '[PAD]', '[PAD]', '[PAD]', '[PAD]', '[PAD]', '[PAD]', '[PAD]', '[PAD]', '[PAD]', '[PAD]', '[PAD]', '[PAD]', '[PAD]', '[PAD]', '[PAD]', '[PAD]', '[PAD]', '[PAD]', '[PAD]', '[PAD]', '[PAD]', '[PAD]', '[PAD]', '[PAD]', '[PAD]', '[PAD]', '[PAD]', '[PAD]', '[PAD]', '[PAD]', '[PAD]', '[PAD]', '[PAD]', '[PAD]', '[PAD]', '[PAD]', '[PAD]', '[PAD]', '[PAD]']\n"
          ]
        }
      ],
      "source": [
        "print(tokenizer.convert_ids_to_tokens(input_ids[0])) # What tokens do the integer ids map to?"
      ]
    },
    {
      "cell_type": "markdown",
      "metadata": {
        "id": "3PTfFwY8waL5"
      },
      "source": [
        "### Using a DataLoader to load batches\n",
        "\n",
        "Python is limited in terms of using multiple threads in the same process. A `DataLoader` object abstracts away the creation of multiple processes via `multiprocessing`, where each process independently loads batches of data. It ensures several batches are fetched in advance so that our main process doesn't have to pause and wait for a batch to be processed by the `MotionerDataset` before being able to proceed to pass it to the model."
      ]
    },
    {
      "cell_type": "code",
      "execution_count": 7,
      "metadata": {
        "id": "G-R3YvAazcQF"
      },
      "outputs": [],
      "source": [
        "from torch.utils.data import Dataset, DataLoader\n",
        "train_dataset = MotionerDataset(df=df_train)\n",
        "valid_dataset = MotionerDataset(df=df_valid)\n",
        "\n",
        "# Colab free tier only has 2 CPUs\n",
        "train_loader = DataLoader(train_dataset, batch_size=16, shuffle=True, num_workers=2)\n",
        "valid_loader = DataLoader(valid_dataset, batch_size=16, shuffle=False, num_workers=2)"
      ]
    },
    {
      "cell_type": "markdown",
      "metadata": {
        "id": "GcPkPsMnzyNA"
      },
      "source": [
        "### Example output of our DataLoader\n",
        "\n",
        "Dataloaders are [iterables](https://www.pythonlikeyoumeanit.com/Module2_EssentialsOfPython/Iterables.html#Iterables), meaning we can iterate over them with `for` loops. If we want to inspect a batch manually without explicit looping, we need to use `iter()` and `next()`:"
      ]
    },
    {
      "cell_type": "code",
      "execution_count": 8,
      "metadata": {
        "colab": {
          "base_uri": "https://localhost:8080/"
        },
        "id": "N4flN4gP0uJW",
        "outputId": "83a15618-691c-4282-ae1f-1988c01da99b"
      },
      "outputs": [
        {
          "name": "stdout",
          "output_type": "stream",
          "text": [
            "Dimensions of the batch: torch.Size([16, 1, 512])\n",
            "Labels: tensor([7, 5, 5, 7, 5, 5, 1, 5, 5, 7, 3, 5, 3, 7, 3, 5])\n"
          ]
        },
        {
          "data": {
            "text/plain": [
              "tensor([[[    2,   285, 12966,  ...,     0,     0,     0]],\n",
              "\n",
              "        [[    2,  4199,    97,  ...,    19,   413,     3]],\n",
              "\n",
              "        [[    2,   285,    65,  ...,     0,     0,     0]],\n",
              "\n",
              "        ...,\n",
              "\n",
              "        [[    2, 11024,   423,  ...,     0,     0,     0]],\n",
              "\n",
              "        [[    2,   160,    54,  ...,   198,   127,     3]],\n",
              "\n",
              "        [[    2, 18745, 37812,  ...,     0,     0,     0]]])"
            ]
          },
          "execution_count": 8,
          "metadata": {},
          "output_type": "execute_result"
        }
      ],
      "source": [
        "batch = next(iter(train_loader))\n",
        "print(f\"Dimensions of the batch: {batch['input_ids'].size()}\") # 16 obs of dim 1x512\n",
        "print(f\"Labels: {batch['label']}\")\n",
        "batch[\"input_ids\"]"
      ]
    },
    {
      "cell_type": "markdown",
      "metadata": {
        "id": "U_Yr3LSl5lh4"
      },
      "source": [
        "## Setting up the Swedish BERT model for classification\n",
        "\n",
        "Let's load KB-BERT from the `transformers` library. We will be loading it for the specific purpose of performing document classification. At Huggingface, models with a classification head (a dense linear layer on top of the base transformer) are all named `XForSequenceClassification`, where `X` is the specific model implementation. In our case that's the BERT.  "
      ]
    },
    {
      "cell_type": "code",
      "execution_count": 9,
      "metadata": {
        "colab": {
          "base_uri": "https://localhost:8080/"
        },
        "id": "LtDMfQOK53Nj",
        "outputId": "e9050369-28a1-4961-e92b-fba5fdebdb72"
      },
      "outputs": [
        {
          "name": "stderr",
          "output_type": "stream",
          "text": [
            "Some weights of BertForSequenceClassification were not initialized from the model checkpoint at KBLab/bert-base-swedish-cased and are newly initialized: ['classifier.bias', 'classifier.weight']\n",
            "You should probably TRAIN this model on a down-stream task to be able to use it for predictions and inference.\n"
          ]
        }
      ],
      "source": [
        "from transformers import BertForSequenceClassification\n",
        "# Note that we define the number of categories with `num_labels`.\n",
        "model = BertForSequenceClassification.from_pretrained(\"KBLab/bert-base-swedish-cased\", num_labels=9)\n"
      ]
    },
    {
      "cell_type": "markdown",
      "metadata": {
        "id": "Z9hSr3YWBHka"
      },
      "source": [
        "We can look at the model and can identify the transformer layers. Just as in the original BERT we have 12 Transformer layers (called `BertLayer`) with self-attention (`BertSelfAttention`), here with dropout. Note that we can see the Q(uery), K(ey), and V(alue) parameters of the transformer layers. In the `BertSelfOutput` we can see the layer normalization of the output.\n",
        "\n",
        "The `BertIntermediate` part contain the feed-forward neural network och the transformer, here with a Gaussian Error Linear unit (GELu) activation function. We can also see the input (word) embedding layer with a vocabulary of size 50325 different word types, position embeddings, a layer normalization layer and dropout. The `BertPooler` layer is the classification head used for text classification with the BERT model."
      ]
    },
    {
      "cell_type": "code",
      "execution_count": 10,
      "metadata": {
        "colab": {
          "base_uri": "https://localhost:8080/"
        },
        "id": "vpPOTXoFBGag",
        "outputId": "fedc7adc-db6e-4399-a0d1-8f693184f920"
      },
      "outputs": [
        {
          "data": {
            "text/plain": [
              "BertForSequenceClassification(\n",
              "  (bert): BertModel(\n",
              "    (embeddings): BertEmbeddings(\n",
              "      (word_embeddings): Embedding(50325, 768, padding_idx=0)\n",
              "      (position_embeddings): Embedding(512, 768)\n",
              "      (token_type_embeddings): Embedding(2, 768)\n",
              "      (LayerNorm): LayerNorm((768,), eps=1e-12, elementwise_affine=True)\n",
              "      (dropout): Dropout(p=0.1, inplace=False)\n",
              "    )\n",
              "    (encoder): BertEncoder(\n",
              "      (layer): ModuleList(\n",
              "        (0-11): 12 x BertLayer(\n",
              "          (attention): BertAttention(\n",
              "            (self): BertSdpaSelfAttention(\n",
              "              (query): Linear(in_features=768, out_features=768, bias=True)\n",
              "              (key): Linear(in_features=768, out_features=768, bias=True)\n",
              "              (value): Linear(in_features=768, out_features=768, bias=True)\n",
              "              (dropout): Dropout(p=0.1, inplace=False)\n",
              "            )\n",
              "            (output): BertSelfOutput(\n",
              "              (dense): Linear(in_features=768, out_features=768, bias=True)\n",
              "              (LayerNorm): LayerNorm((768,), eps=1e-12, elementwise_affine=True)\n",
              "              (dropout): Dropout(p=0.1, inplace=False)\n",
              "            )\n",
              "          )\n",
              "          (intermediate): BertIntermediate(\n",
              "            (dense): Linear(in_features=768, out_features=3072, bias=True)\n",
              "            (intermediate_act_fn): GELUActivation()\n",
              "          )\n",
              "          (output): BertOutput(\n",
              "            (dense): Linear(in_features=3072, out_features=768, bias=True)\n",
              "            (LayerNorm): LayerNorm((768,), eps=1e-12, elementwise_affine=True)\n",
              "            (dropout): Dropout(p=0.1, inplace=False)\n",
              "          )\n",
              "        )\n",
              "      )\n",
              "    )\n",
              "    (pooler): BertPooler(\n",
              "      (dense): Linear(in_features=768, out_features=768, bias=True)\n",
              "      (activation): Tanh()\n",
              "    )\n",
              "  )\n",
              "  (dropout): Dropout(p=0.1, inplace=False)\n",
              "  (classifier): Linear(in_features=768, out_features=9, bias=True)\n",
              ")"
            ]
          },
          "execution_count": 10,
          "metadata": {},
          "output_type": "execute_result"
        }
      ],
      "source": [
        "model"
      ]
    },
    {
      "cell_type": "markdown",
      "metadata": {
        "id": "1qvk1LkvjAI6"
      },
      "source": [
        "Next we setup the use of a Graphical Processing Unit to speed up the training. This is strictly not nessecary, but make the training faster. We also check that the model is in training model."
      ]
    },
    {
      "cell_type": "code",
      "execution_count": 11,
      "metadata": {
        "colab": {
          "base_uri": "https://localhost:8080/"
        },
        "id": "NuQ_RrO4A1aq",
        "outputId": "8426a3f2-ee48-404c-b5a1-db7e3311512b"
      },
      "outputs": [
        {
          "name": "stdout",
          "output_type": "stream",
          "text": [
            "We use: cuda\n",
            "The model is in training mode:  True\n"
          ]
        }
      ],
      "source": [
        "# We can make use of GPU if the if you have activated GPU in Colab\n",
        "# Runtime -> Change Runtime Type -> Hardware Accelerator -> GPU\n",
        "device = torch.device(\"cuda\") if torch.cuda.is_available() else torch.device(\"cpu\")\n",
        "print(\"We use:\", device)\n",
        "model.to(device) # Should the model run on CPU or GPU?\n",
        "model.train() # In train mode dropout is active, in eval mode dropout is inactivated\n",
        "# Boolean showing whether the model is in train mode or in eval model.\n",
        "print(\"The model is in training mode: \", model.training)"
      ]
    },
    {
      "cell_type": "markdown",
      "metadata": {
        "id": "x_7HZDAoBPhk"
      },
      "source": [
        "### Optimizer, loss function and learning rate scheduler\n",
        "\n",
        "Next, we will be loading an optimizer, a loss function (cross entropy loss), and a learning rate scheduler that will vary the learning rate throughout the training process.\n",
        "\n",
        "* Optimizer: AdamW.\n",
        "* Loss: Cross-entropy loss\n",
        "* Learning rate scheduler: Sets a schedule for how the base learning rate should change throughout the training (rather than keeping a fixed learning rate throughout).\n",
        "\n",
        "> \"Adam can substantially benefit from a scheduled learning rate multiplier. The fact that Adam is an adaptive gradient algorithm and as such adapts the learning rate for each parameter does not rule out the possibility to substantially improve its performance by using a global learning rate multiplier, scheduled, e.g., by cosine annealing\" ([Loshcilov & Hutter, 2019](https://arxiv.org/abs/1711.05101))\n",
        "\n",
        "For our learning rate scheduler, we'll use the Kaggle-\"trendy\" [OneCycleLR](https://pytorch.org/docs/stable/generated/torch.optim.lr_scheduler.OneCycleLR.html#onecyclelr).\n",
        "\n",
        "Optimal learning rates are dataset and model dependent. If you set it manually, a normal process to figure out a reasonable rate is to train for a few minutes while keeping track of the loss. Then restart the training changing the loss by an order of magnitude or more, while comparing how quickly the loss drops. You may also try \"hyperparameter optimization\" tools that explores the optimal paramters for you. Though, these tools can tend to be fairly overkill for simple finetuning problems such as this one."
      ]
    },
    {
      "cell_type": "code",
      "execution_count": 12,
      "metadata": {
        "id": "nAe6T_trEZ4W"
      },
      "outputs": [],
      "source": [
        "# The total number of epochs\n",
        "nr_epochs=4\n",
        "\n",
        "# The optimizer we are going to use\n",
        "optimizer = torch.optim.AdamW(model.parameters(), lr=1e-5)\n",
        "\n",
        "# The loss function\n",
        "loss_function = torch.nn.CrossEntropyLoss()\n",
        "\n",
        "# The learning rate scheduler\n",
        "learning_rate_scheduler = torch.optim.lr_scheduler.OneCycleLR(\n",
        "    optimizer,\n",
        "    max_lr=1e-5,\n",
        "    epochs=nr_epochs,\n",
        "    steps_per_epoch=len(train_loader),\n",
        "    pct_start=0.1\n",
        ")"
      ]
    },
    {
      "cell_type": "markdown",
      "metadata": {
        "id": "WVSDpuJkEy8i"
      },
      "source": [
        "A learning rate scheduler change the learning rate over the training time. In fact, we can step through the scheduler and extract its learning rate values for each iteration even without training the model.  The total number of steps that the scheduler will generate learning rates for will be `nr_epochs * len(train_loader)`.\n",
        "\n",
        "Let's loop through all these values and extract the learning rate for each step of the scheduler. We can plot the results with `matplotlib` as follows."
      ]
    },
    {
      "cell_type": "code",
      "execution_count": 13,
      "metadata": {
        "colab": {
          "base_uri": "https://localhost:8080/",
          "height": 522
        },
        "id": "A5Fe2FeCAKaN",
        "outputId": "26c2ff09-1e77-462c-d5ca-7c648763bd9d"
      },
      "outputs": [
        {
          "data": {
            "image/png": "[encoded data removed]",
            "text/plain": [
              "<Figure size 1200x600 with 1 Axes>"
            ]
          },
          "metadata": {},
          "output_type": "display_data"
        }
      ],
      "source": [
        "import matplotlib.pyplot as plt\n",
        "import matplotlib.ticker as mtick\n",
        "plt.rcParams['figure.figsize'] = [12, 6]\n",
        "\n",
        "iter = []\n",
        "learning_rates = []\n",
        "for i in range(nr_epochs * len(train_loader)):\n",
        "    optimizer.step()\n",
        "    learning_rates.append(learning_rate_scheduler.get_last_lr())\n",
        "    iter.append(i)\n",
        "    learning_rate_scheduler.step()\n",
        "\n",
        "fig = plt.figure()\n",
        "ax = fig.add_subplot(111)\n",
        "ax.plot(iter, learning_rates)\n",
        "ax.yaxis.set_major_formatter(mtick.FormatStrFormatter('%.2e'))"
      ]
    },
    {
      "cell_type": "markdown",
      "metadata": {
        "id": "v-JbXNYHpv7G"
      },
      "source": [
        "## Training/finetuning\n"
      ]
    },
    {
      "cell_type": "markdown",
      "metadata": {
        "id": "fPPCRoBJny9s"
      },
      "source": [
        "Currently all parameters in the BERT model going to be trained. The `boolean` `param.requires_grad` indicates if the weight should be trained (`True`) or if it is freezed (`False`). Hence we can list the parameters to train as follows."
      ]
    },
    {
      "cell_type": "code",
      "execution_count": 14,
      "metadata": {
        "colab": {
          "base_uri": "https://localhost:8080/"
        },
        "id": "OjmfL4kcnzax",
        "outputId": "61a5fcc7-c7f4-496a-9d8e-649c1f89eabd"
      },
      "outputs": [
        {
          "name": "stdout",
          "output_type": "stream",
          "text": [
            "bert.embeddings.word_embeddings.weight\n",
            "bert.embeddings.position_embeddings.weight\n",
            "bert.embeddings.token_type_embeddings.weight\n",
            "bert.embeddings.LayerNorm.weight\n",
            "bert.embeddings.LayerNorm.bias\n",
            "bert.encoder.layer.0.attention.self.query.weight\n",
            "bert.encoder.layer.0.attention.self.query.bias\n",
            "bert.encoder.layer.0.attention.self.key.weight\n",
            "bert.encoder.layer.0.attention.self.key.bias\n",
            "bert.encoder.layer.0.attention.self.value.weight\n",
            "bert.encoder.layer.0.attention.self.value.bias\n",
            "bert.encoder.layer.0.attention.output.dense.weight\n",
            "bert.encoder.layer.0.attention.output.dense.bias\n",
            "bert.encoder.layer.0.attention.output.LayerNorm.weight\n",
            "bert.encoder.layer.0.attention.output.LayerNorm.bias\n",
            "bert.encoder.layer.0.intermediate.dense.weight\n",
            "bert.encoder.layer.0.intermediate.dense.bias\n",
            "bert.encoder.layer.0.output.dense.weight\n",
            "bert.encoder.layer.0.output.dense.bias\n",
            "bert.encoder.layer.0.output.LayerNorm.weight\n",
            "bert.encoder.layer.0.output.LayerNorm.bias\n",
            "bert.encoder.layer.1.attention.self.query.weight\n",
            "bert.encoder.layer.1.attention.self.query.bias\n",
            "bert.encoder.layer.1.attention.self.key.weight\n",
            "bert.encoder.layer.1.attention.self.key.bias\n",
            "bert.encoder.layer.1.attention.self.value.weight\n",
            "bert.encoder.layer.1.attention.self.value.bias\n",
            "bert.encoder.layer.1.attention.output.dense.weight\n",
            "bert.encoder.layer.1.attention.output.dense.bias\n",
            "bert.encoder.layer.1.attention.output.LayerNorm.weight\n",
            "bert.encoder.layer.1.attention.output.LayerNorm.bias\n",
            "bert.encoder.layer.1.intermediate.dense.weight\n",
            "bert.encoder.layer.1.intermediate.dense.bias\n",
            "bert.encoder.layer.1.output.dense.weight\n",
            "bert.encoder.layer.1.output.dense.bias\n",
            "bert.encoder.layer.1.output.LayerNorm.weight\n",
            "bert.encoder.layer.1.output.LayerNorm.bias\n",
            "bert.encoder.layer.2.attention.self.query.weight\n",
            "bert.encoder.layer.2.attention.self.query.bias\n",
            "bert.encoder.layer.2.attention.self.key.weight\n",
            "bert.encoder.layer.2.attention.self.key.bias\n",
            "bert.encoder.layer.2.attention.self.value.weight\n",
            "bert.encoder.layer.2.attention.self.value.bias\n",
            "bert.encoder.layer.2.attention.output.dense.weight\n",
            "bert.encoder.layer.2.attention.output.dense.bias\n",
            "bert.encoder.layer.2.attention.output.LayerNorm.weight\n",
            "bert.encoder.layer.2.attention.output.LayerNorm.bias\n",
            "bert.encoder.layer.2.intermediate.dense.weight\n",
            "bert.encoder.layer.2.intermediate.dense.bias\n",
            "bert.encoder.layer.2.output.dense.weight\n",
            "bert.encoder.layer.2.output.dense.bias\n",
            "bert.encoder.layer.2.output.LayerNorm.weight\n",
            "bert.encoder.layer.2.output.LayerNorm.bias\n",
            "bert.encoder.layer.3.attention.self.query.weight\n",
            "bert.encoder.layer.3.attention.self.query.bias\n",
            "bert.encoder.layer.3.attention.self.key.weight\n",
            "bert.encoder.layer.3.attention.self.key.bias\n",
            "bert.encoder.layer.3.attention.self.value.weight\n",
            "bert.encoder.layer.3.attention.self.value.bias\n",
            "bert.encoder.layer.3.attention.output.dense.weight\n",
            "bert.encoder.layer.3.attention.output.dense.bias\n",
            "bert.encoder.layer.3.attention.output.LayerNorm.weight\n",
            "bert.encoder.layer.3.attention.output.LayerNorm.bias\n",
            "bert.encoder.layer.3.intermediate.dense.weight\n",
            "bert.encoder.layer.3.intermediate.dense.bias\n",
            "bert.encoder.layer.3.output.dense.weight\n",
            "bert.encoder.layer.3.output.dense.bias\n",
            "bert.encoder.layer.3.output.LayerNorm.weight\n",
            "bert.encoder.layer.3.output.LayerNorm.bias\n",
            "bert.encoder.layer.4.attention.self.query.weight\n",
            "bert.encoder.layer.4.attention.self.query.bias\n",
            "bert.encoder.layer.4.attention.self.key.weight\n",
            "bert.encoder.layer.4.attention.self.key.bias\n",
            "bert.encoder.layer.4.attention.self.value.weight\n",
            "bert.encoder.layer.4.attention.self.value.bias\n",
            "bert.encoder.layer.4.attention.output.dense.weight\n",
            "bert.encoder.layer.4.attention.output.dense.bias\n",
            "bert.encoder.layer.4.attention.output.LayerNorm.weight\n",
            "bert.encoder.layer.4.attention.output.LayerNorm.bias\n",
            "bert.encoder.layer.4.intermediate.dense.weight\n",
            "bert.encoder.layer.4.intermediate.dense.bias\n",
            "bert.encoder.layer.4.output.dense.weight\n",
            "bert.encoder.layer.4.output.dense.bias\n",
            "bert.encoder.layer.4.output.LayerNorm.weight\n",
            "bert.encoder.layer.4.output.LayerNorm.bias\n",
            "bert.encoder.layer.5.attention.self.query.weight\n",
            "bert.encoder.layer.5.attention.self.query.bias\n",
            "bert.encoder.layer.5.attention.self.key.weight\n",
            "bert.encoder.layer.5.attention.self.key.bias\n",
            "bert.encoder.layer.5.attention.self.value.weight\n",
            "bert.encoder.layer.5.attention.self.value.bias\n",
            "bert.encoder.layer.5.attention.output.dense.weight\n",
            "bert.encoder.layer.5.attention.output.dense.bias\n",
            "bert.encoder.layer.5.attention.output.LayerNorm.weight\n",
            "bert.encoder.layer.5.attention.output.LayerNorm.bias\n",
            "bert.encoder.layer.5.intermediate.dense.weight\n",
            "bert.encoder.layer.5.intermediate.dense.bias\n",
            "bert.encoder.layer.5.output.dense.weight\n",
            "bert.encoder.layer.5.output.dense.bias\n",
            "bert.encoder.layer.5.output.LayerNorm.weight\n",
            "bert.encoder.layer.5.output.LayerNorm.bias\n",
            "bert.encoder.layer.6.attention.self.query.weight\n",
            "bert.encoder.layer.6.attention.self.query.bias\n",
            "bert.encoder.layer.6.attention.self.key.weight\n",
            "bert.encoder.layer.6.attention.self.key.bias\n",
            "bert.encoder.layer.6.attention.self.value.weight\n",
            "bert.encoder.layer.6.attention.self.value.bias\n",
            "bert.encoder.layer.6.attention.output.dense.weight\n",
            "bert.encoder.layer.6.attention.output.dense.bias\n",
            "bert.encoder.layer.6.attention.output.LayerNorm.weight\n",
            "bert.encoder.layer.6.attention.output.LayerNorm.bias\n",
            "bert.encoder.layer.6.intermediate.dense.weight\n",
            "bert.encoder.layer.6.intermediate.dense.bias\n",
            "bert.encoder.layer.6.output.dense.weight\n",
            "bert.encoder.layer.6.output.dense.bias\n",
            "bert.encoder.layer.6.output.LayerNorm.weight\n",
            "bert.encoder.layer.6.output.LayerNorm.bias\n",
            "bert.encoder.layer.7.attention.self.query.weight\n",
            "bert.encoder.layer.7.attention.self.query.bias\n",
            "bert.encoder.layer.7.attention.self.key.weight\n",
            "bert.encoder.layer.7.attention.self.key.bias\n",
            "bert.encoder.layer.7.attention.self.value.weight\n",
            "bert.encoder.layer.7.attention.self.value.bias\n",
            "bert.encoder.layer.7.attention.output.dense.weight\n",
            "bert.encoder.layer.7.attention.output.dense.bias\n",
            "bert.encoder.layer.7.attention.output.LayerNorm.weight\n",
            "bert.encoder.layer.7.attention.output.LayerNorm.bias\n",
            "bert.encoder.layer.7.intermediate.dense.weight\n",
            "bert.encoder.layer.7.intermediate.dense.bias\n",
            "bert.encoder.layer.7.output.dense.weight\n",
            "bert.encoder.layer.7.output.dense.bias\n",
            "bert.encoder.layer.7.output.LayerNorm.weight\n",
            "bert.encoder.layer.7.output.LayerNorm.bias\n",
            "bert.encoder.layer.8.attention.self.query.weight\n",
            "bert.encoder.layer.8.attention.self.query.bias\n",
            "bert.encoder.layer.8.attention.self.key.weight\n",
            "bert.encoder.layer.8.attention.self.key.bias\n",
            "bert.encoder.layer.8.attention.self.value.weight\n",
            "bert.encoder.layer.8.attention.self.value.bias\n",
            "bert.encoder.layer.8.attention.output.dense.weight\n",
            "bert.encoder.layer.8.attention.output.dense.bias\n",
            "bert.encoder.layer.8.attention.output.LayerNorm.weight\n",
            "bert.encoder.layer.8.attention.output.LayerNorm.bias\n",
            "bert.encoder.layer.8.intermediate.dense.weight\n",
            "bert.encoder.layer.8.intermediate.dense.bias\n",
            "bert.encoder.layer.8.output.dense.weight\n",
            "bert.encoder.layer.8.output.dense.bias\n",
            "bert.encoder.layer.8.output.LayerNorm.weight\n",
            "bert.encoder.layer.8.output.LayerNorm.bias\n",
            "bert.encoder.layer.9.attention.self.query.weight\n",
            "bert.encoder.layer.9.attention.self.query.bias\n",
            "bert.encoder.layer.9.attention.self.key.weight\n",
            "bert.encoder.layer.9.attention.self.key.bias\n",
            "bert.encoder.layer.9.attention.self.value.weight\n",
            "bert.encoder.layer.9.attention.self.value.bias\n",
            "bert.encoder.layer.9.attention.output.dense.weight\n",
            "bert.encoder.layer.9.attention.output.dense.bias\n",
            "bert.encoder.layer.9.attention.output.LayerNorm.weight\n",
            "bert.encoder.layer.9.attention.output.LayerNorm.bias\n",
            "bert.encoder.layer.9.intermediate.dense.weight\n",
            "bert.encoder.layer.9.intermediate.dense.bias\n",
            "bert.encoder.layer.9.output.dense.weight\n",
            "bert.encoder.layer.9.output.dense.bias\n",
            "bert.encoder.layer.9.output.LayerNorm.weight\n",
            "bert.encoder.layer.9.output.LayerNorm.bias\n",
            "bert.encoder.layer.10.attention.self.query.weight\n",
            "bert.encoder.layer.10.attention.self.query.bias\n",
            "bert.encoder.layer.10.attention.self.key.weight\n",
            "bert.encoder.layer.10.attention.self.key.bias\n",
            "bert.encoder.layer.10.attention.self.value.weight\n",
            "bert.encoder.layer.10.attention.self.value.bias\n",
            "bert.encoder.layer.10.attention.output.dense.weight\n",
            "bert.encoder.layer.10.attention.output.dense.bias\n",
            "bert.encoder.layer.10.attention.output.LayerNorm.weight\n",
            "bert.encoder.layer.10.attention.output.LayerNorm.bias\n",
            "bert.encoder.layer.10.intermediate.dense.weight\n",
            "bert.encoder.layer.10.intermediate.dense.bias\n",
            "bert.encoder.layer.10.output.dense.weight\n",
            "bert.encoder.layer.10.output.dense.bias\n",
            "bert.encoder.layer.10.output.LayerNorm.weight\n",
            "bert.encoder.layer.10.output.LayerNorm.bias\n",
            "bert.encoder.layer.11.attention.self.query.weight\n",
            "bert.encoder.layer.11.attention.self.query.bias\n",
            "bert.encoder.layer.11.attention.self.key.weight\n",
            "bert.encoder.layer.11.attention.self.key.bias\n",
            "bert.encoder.layer.11.attention.self.value.weight\n",
            "bert.encoder.layer.11.attention.self.value.bias\n",
            "bert.encoder.layer.11.attention.output.dense.weight\n",
            "bert.encoder.layer.11.attention.output.dense.bias\n",
            "bert.encoder.layer.11.attention.output.LayerNorm.weight\n",
            "bert.encoder.layer.11.attention.output.LayerNorm.bias\n",
            "bert.encoder.layer.11.intermediate.dense.weight\n",
            "bert.encoder.layer.11.intermediate.dense.bias\n",
            "bert.encoder.layer.11.output.dense.weight\n",
            "bert.encoder.layer.11.output.dense.bias\n",
            "bert.encoder.layer.11.output.LayerNorm.weight\n",
            "bert.encoder.layer.11.output.LayerNorm.bias\n",
            "bert.pooler.dense.weight\n",
            "bert.pooler.dense.bias\n",
            "classifier.weight\n",
            "classifier.bias\n"
          ]
        }
      ],
      "source": [
        "# List parameters to train\n",
        "for name, param in model.named_parameters():\n",
        "  if param.requires_grad:\n",
        "    print(name)"
      ]
    },
    {
      "cell_type": "markdown",
      "metadata": {
        "id": "C8n0Z5dron_w"
      },
      "source": [
        "As a first step we will only train the classification head, that is the bert.pooler layer and the classifier."
      ]
    },
    {
      "cell_type": "code",
      "execution_count": 15,
      "metadata": {
        "colab": {
          "base_uri": "https://localhost:8080/"
        },
        "id": "bGUblDYKpJsa",
        "outputId": "efa33326-4183-4684-a5da-7855784fa090"
      },
      "outputs": [
        {
          "name": "stdout",
          "output_type": "stream",
          "text": [
            "bert.pooler.dense.weight\n",
            "bert.pooler.dense.bias\n",
            "classifier.weight\n",
            "classifier.bias\n"
          ]
        }
      ],
      "source": [
        "# We now just set some parameters to be trained\n",
        "for param in model.parameters():\n",
        "    param.requires_grad = False\n",
        "\n",
        "model.bert.pooler.dense.weight.requires_grad = True\n",
        "model.bert.pooler.dense.bias.requires_grad = True\n",
        "model.classifier.weight.requires_grad = True\n",
        "model.classifier.bias.requires_grad = True\n",
        "\n",
        "# List parameters to train\n",
        "for name, param in model.named_parameters():\n",
        "  if param.requires_grad:\n",
        "    print(name)\n"
      ]
    },
    {
      "cell_type": "markdown",
      "metadata": {
        "id": "S6wa2R5b5JgF"
      },
      "source": [
        "\n",
        "Now to the actual training of the model. Our approach will be to write a standard Pytorch training loop, where we iterate over the epochs and batches with `for` loops. The general structure for such a training loop is as follows:\n",
        "\n",
        "```python\n",
        "nr_epochs = 4\n",
        "\n",
        "for epoch in range(nr_epochs):\n",
        "  for i, batch in enumerate(train_loader):\n",
        "    # We set the gradients to zero\n",
        "    optim.zero_grad()\n",
        "\n",
        "    # Extract the input_ids, attention_mask and labels.\n",
        "    # Make sure they are on the right device before being passed to model.\n",
        "    input_ids = batch[\"input_ids\"].to(device)\n",
        "    attention_mask = batch[\"attention_mask\"].to(device)\n",
        "    labels = batch[\"labels\"].to(device)\n",
        "\n",
        "    # Compute the loss\n",
        "    outputs = model(input_ids, attention_mask=attention_mask)\n",
        "    loss = loss_function(outputs[\"logits\"], labels)\n",
        "\n",
        "    loss.backward() # Gradient update step, backward pass\n",
        "    optim.step() # Optimizer update step\n",
        "    scheduler.step() # Scheduler update step\n",
        "```"
      ]
    },
    {
      "cell_type": "markdown",
      "metadata": {
        "id": "1KixOPzNiSZ1"
      },
      "source": [
        "Since we stepped through our optimizer and scheduler above, we need to reinstantiate them once again:"
      ]
    },
    {
      "cell_type": "code",
      "execution_count": 16,
      "metadata": {
        "id": "rBlDU0VHH5i0"
      },
      "outputs": [],
      "source": [
        "# The total number of epochs\n",
        "nr_epochs=1\n",
        "\n",
        "# The optimizer we are going to use\n",
        "optimizer = torch.optim.AdamW(model.parameters(), lr=1e-5)\n",
        "\n",
        "# The loss function\n",
        "loss_function = torch.nn.CrossEntropyLoss()\n",
        "\n",
        "# The learning rate scheduler\n",
        "learning_rate_scheduler = torch.optim.lr_scheduler.OneCycleLR(\n",
        "    optimizer,\n",
        "    max_lr=1e-5,\n",
        "    epochs=nr_epochs,\n",
        "    steps_per_epoch=len(train_loader),\n",
        "    pct_start=0.1\n",
        ")"
      ]
    },
    {
      "cell_type": "markdown",
      "metadata": {
        "id": "mWBSt4RgNSYD"
      },
      "source": [
        "Why would we prefer writing our own training loop as opposed to just using some framework providing cushy high level abstractions? As we'll see soon, the benefit is mainly that you have the freedom to customize, adapt and debug your code very easily and freely.\n",
        "\n",
        "* **Customization**: You don't need to understand the ins and outs of a framework, nor inspect its source code to implement, adapt and change things.\n",
        "* **Debugging**: Every parameter, every loss, every optimizer state, every scheduler state, every input and every output is available and easily inspectable for you. These things are generally hidden away from you when using higher level frameworks.\n",
        "\n",
        "For our actual training loop, we will add a few things.\n",
        "\n",
        "1. At certain intervals of iterations we would like to print our average loss during that interval.\n",
        "2. Every epoch we would like to print our accuracy, a confusion matrix, and some other useful metrics.\n",
        "\n",
        "In order to be fully transparent, I should state that in a typical work flow,  generally the training loop is developed first without having prediction code in place. Generally the process will include training the model for a while without doing evaluations and predictions (only tracking loss). At this stage is where the partly trained -- and unfinished -- model is used to write a proper prediction function with evaluation measures. This step is generally easier and less error prone to code once the model starts making predictions that are somewhat sensible.\n",
        "\n",
        "In this tutorial I will provide a prediction function immediately, but keep in mind that the figuring out of how to do basic prediction generally comes *after* having a model that no longer outputs random jibberish."
      ]
    },
    {
      "cell_type": "code",
      "execution_count": 17,
      "metadata": {
        "id": "NmjuiuDjUKGq"
      },
      "outputs": [],
      "source": [
        "from tqdm import tqdm\n",
        "def predict(model, df_valid):\n",
        "    probs_list = []\n",
        "\n",
        "    # Ensure model is in eval mode before predicting (this ignores dropout layers)\n",
        "    model.eval()\n",
        "    with torch.no_grad():\n",
        "        for i, batch in enumerate(tqdm(valid_loader)):\n",
        "            # .squeeze(dim=1) changes dims [16, 1, 512] ---> [16, 512]\n",
        "            input_ids = batch[\"input_ids\"].squeeze(dim=1).to(device)\n",
        "            attention_mask = batch[\"attention_mask\"].squeeze(dim=1).to(device)\n",
        "            outputs = model(input_ids, attention_mask=attention_mask)\n",
        "\n",
        "            probs_list += torch.nn.functional.softmax(outputs[\"logits\"], dim=1)\n",
        "\n",
        "        preds = [torch.argmax(probs, dim=0).to(\"cpu\") for probs in probs_list]\n",
        "        df_valid[\"preds\"] = [int(pred) for pred in preds]\n",
        "        df_valid[\"probs\"] = [probs.to(\"cpu\").tolist() for probs in probs_list]\n",
        "\n",
        "    return df_valid\n"
      ]
    },
    {
      "cell_type": "markdown",
      "metadata": {
        "id": "Wnks63axURqm"
      },
      "source": [
        "### Train the classification head (takes approx 8 minutes)\n",
        "\n",
        "One devious thing we have to look out for is that models expect input of a certain dimensionality. Sometimes the output of our dataset/dataloader might not conform to these expectations. In our case the dimensionality of a batch of `input_ids` comes out as $16\\times1\\times512$. We can think of it as $16$ observations of $1\\times512$ matrices. However, the row dimension $1$ of those matrices is redundant here. We might as well think of it as $16$ observations of $512$-length vectors. The model in fact expects a dimensionality of `(batch_size, input_length)` for each batch.\n",
        "\n",
        "A common operation for making this redundant $1$-dimensions disappear in Pytorch is the `.squeeze()` operation. Conversely, if we want to insert one of these dimensions (because a model for some reason expects it), we can use `.unsqueeze()`.\n",
        "\n",
        "In the code below you will see `batch[\"input_ids\"].to(device).squeeze(dim=1)`, where we transform `input_ids` from $16\\times1\\times512$ to $16\\times512$. The argument `dim` here refers to along which of the 3 axes `(batch_size, dummy_row, input_length)`: $16$, $1$ or $512$ that we want to perform the squeeze operation. The dimension axes start counting from $0$ (with $0$ being the `batch_size` dimension).\n",
        "\n"
      ]
    },
    {
      "cell_type": "code",
      "execution_count": 18,
      "metadata": {
        "colab": {
          "base_uri": "https://localhost:8080/"
        },
        "id": "ukTK8oX9Vv4q",
        "outputId": "2d76ca9f-84b8-466f-8e88-acfb081aa43e"
      },
      "outputs": [
        {
          "name": "stdout",
          "output_type": "stream",
          "text": [
            "epoch: 1 started\n"
          ]
        },
        {
          "name": "stderr",
          "output_type": "stream",
          "text": [
            "  4%|▍         | 50/1242 [00:24<09:22,  2.12it/s]"
          ]
        },
        {
          "name": "stdout",
          "output_type": "stream",
          "text": [
            " iter: 50, loss: 2.34566741, lr: [3.68416197944788e-06]\n"
          ]
        },
        {
          "name": "stderr",
          "output_type": "stream",
          "text": [
            "  8%|▊         | 100/1242 [00:47<09:16,  2.05it/s]"
          ]
        },
        {
          "name": "stdout",
          "output_type": "stream",
          "text": [
            " iter: 100, loss: 2.21167184, lr: [9.11469217100445e-06]\n"
          ]
        },
        {
          "name": "stderr",
          "output_type": "stream",
          "text": [
            " 12%|█▏        | 150/1242 [01:12<08:43,  2.09it/s]"
          ]
        },
        {
          "name": "stdout",
          "output_type": "stream",
          "text": [
            " iter: 150, loss: 1.98781348, lr: [9.986861102616165e-06]\n"
          ]
        },
        {
          "name": "stderr",
          "output_type": "stream",
          "text": [
            " 16%|█▌        | 200/1242 [01:36<08:15,  2.10it/s]"
          ]
        },
        {
          "name": "stdout",
          "output_type": "stream",
          "text": [
            " iter: 200, loss: 1.80886124, lr: [9.886967048742394e-06]\n"
          ]
        },
        {
          "name": "stderr",
          "output_type": "stream",
          "text": [
            " 20%|██        | 250/1242 [01:59<07:50,  2.11it/s]"
          ]
        },
        {
          "name": "stdout",
          "output_type": "stream",
          "text": [
            " iter: 250, loss: 1.77233727, lr: [9.690726842778463e-06]\n"
          ]
        },
        {
          "name": "stderr",
          "output_type": "stream",
          "text": [
            " 24%|██▍       | 300/1242 [02:23<07:32,  2.08it/s]"
          ]
        },
        {
          "name": "stdout",
          "output_type": "stream",
          "text": [
            " iter: 300, loss: 1.69483094, lr: [9.402009360024524e-06]\n"
          ]
        },
        {
          "name": "stderr",
          "output_type": "stream",
          "text": [
            " 28%|██▊       | 350/1242 [02:47<07:09,  2.08it/s]"
          ]
        },
        {
          "name": "stdout",
          "output_type": "stream",
          "text": [
            " iter: 350, loss: 1.68977155, lr: [9.026506665122783e-06]\n"
          ]
        },
        {
          "name": "stderr",
          "output_type": "stream",
          "text": [
            " 32%|███▏      | 400/1242 [03:11<06:38,  2.11it/s]"
          ]
        },
        {
          "name": "stdout",
          "output_type": "stream",
          "text": [
            " iter: 400, loss: 1.63217745, lr: [8.571621793013548e-06]\n"
          ]
        },
        {
          "name": "stderr",
          "output_type": "stream",
          "text": [
            " 36%|███▌      | 450/1242 [03:35<06:19,  2.09it/s]"
          ]
        },
        {
          "name": "stdout",
          "output_type": "stream",
          "text": [
            " iter: 450, loss: 1.67746729, lr: [8.046322798114971e-06]\n"
          ]
        },
        {
          "name": "stderr",
          "output_type": "stream",
          "text": [
            " 40%|████      | 500/1242 [03:59<05:58,  2.07it/s]"
          ]
        },
        {
          "name": "stdout",
          "output_type": "stream",
          "text": [
            " iter: 500, loss: 1.67131691, lr: [7.460965949146668e-06]\n"
          ]
        },
        {
          "name": "stderr",
          "output_type": "stream",
          "text": [
            " 44%|████▍     | 550/1242 [04:22<05:30,  2.10it/s]"
          ]
        },
        {
          "name": "stdout",
          "output_type": "stream",
          "text": [
            " iter: 550, loss: 1.64564170, lr: [6.827091555310928e-06]\n"
          ]
        },
        {
          "name": "stderr",
          "output_type": "stream",
          "text": [
            " 48%|████▊     | 600/1242 [04:46<05:04,  2.11it/s]"
          ]
        },
        {
          "name": "stdout",
          "output_type": "stream",
          "text": [
            " iter: 600, loss: 1.66208353, lr: [6.157196449117995e-06]\n"
          ]
        },
        {
          "name": "stderr",
          "output_type": "stream",
          "text": [
            " 52%|█████▏    | 650/1242 [05:10<04:43,  2.09it/s]"
          ]
        },
        {
          "name": "stdout",
          "output_type": "stream",
          "text": [
            " iter: 650, loss: 1.64475541, lr: [5.464487611356073e-06]\n"
          ]
        },
        {
          "name": "stderr",
          "output_type": "stream",
          "text": [
            " 56%|█████▋    | 700/1242 [05:34<04:16,  2.11it/s]"
          ]
        },
        {
          "name": "stdout",
          "output_type": "stream",
          "text": [
            " iter: 700, loss: 1.60611450, lr: [4.762621795489348e-06]\n"
          ]
        },
        {
          "name": "stderr",
          "output_type": "stream",
          "text": [
            " 60%|██████    | 750/1242 [05:58<03:54,  2.09it/s]"
          ]
        },
        {
          "name": "stdout",
          "output_type": "stream",
          "text": [
            " iter: 750, loss: 1.62527034, lr: [4.065436284788526e-06]\n"
          ]
        },
        {
          "name": "stderr",
          "output_type": "stream",
          "text": [
            " 64%|██████▍   | 800/1242 [06:22<03:30,  2.10it/s]"
          ]
        },
        {
          "name": "stdout",
          "output_type": "stream",
          "text": [
            " iter: 800, loss: 1.64495043, lr: [3.386676090316556e-06]\n"
          ]
        },
        {
          "name": "stderr",
          "output_type": "stream",
          "text": [
            " 68%|██████▊   | 850/1242 [06:46<03:07,  2.10it/s]"
          ]
        },
        {
          "name": "stdout",
          "output_type": "stream",
          "text": [
            " iter: 850, loss: 1.62009184, lr: [2.739722968060787e-06]\n"
          ]
        },
        {
          "name": "stderr",
          "output_type": "stream",
          "text": [
            " 72%|███████▏  | 900/1242 [07:09<02:42,  2.10it/s]"
          ]
        },
        {
          "name": "stdout",
          "output_type": "stream",
          "text": [
            " iter: 900, loss: 1.61791306, lr: [2.137331597638236e-06]\n"
          ]
        },
        {
          "name": "stderr",
          "output_type": "stream",
          "text": [
            " 76%|███████▋  | 950/1242 [07:33<02:19,  2.09it/s]"
          ]
        },
        {
          "name": "stdout",
          "output_type": "stream",
          "text": [
            " iter: 950, loss: 1.65114936, lr: [1.5913781238103823e-06]\n"
          ]
        },
        {
          "name": "stderr",
          "output_type": "stream",
          "text": [
            " 81%|████████  | 1000/1242 [07:57<01:55,  2.10it/s]"
          ]
        },
        {
          "name": "stdout",
          "output_type": "stream",
          "text": [
            " iter: 1000, loss: 1.69761619, lr: [1.1126260183109927e-06]\n"
          ]
        },
        {
          "name": "stderr",
          "output_type": "stream",
          "text": [
            " 85%|████████▍ | 1050/1242 [08:21<01:31,  2.10it/s]"
          ]
        },
        {
          "name": "stdout",
          "output_type": "stream",
          "text": [
            " iter: 1050, loss: 1.63536525, lr: [7.105138780206713e-07]\n"
          ]
        },
        {
          "name": "stderr",
          "output_type": "stream",
          "text": [
            " 89%|████████▊ | 1100/1242 [08:45<01:07,  2.09it/s]"
          ]
        },
        {
          "name": "stdout",
          "output_type": "stream",
          "text": [
            " iter: 1100, loss: 1.64228163, lr: [3.9296934304668565e-07]\n"
          ]
        },
        {
          "name": "stderr",
          "output_type": "stream",
          "text": [
            " 93%|█████████▎| 1150/1242 [09:09<00:43,  2.10it/s]"
          ]
        },
        {
          "name": "stdout",
          "output_type": "stream",
          "text": [
            " iter: 1150, loss: 1.53418437, lr: [1.6625280331281726e-07]\n"
          ]
        },
        {
          "name": "stderr",
          "output_type": "stream",
          "text": [
            " 97%|█████████▋| 1200/1242 [09:33<00:19,  2.10it/s]"
          ]
        },
        {
          "name": "stdout",
          "output_type": "stream",
          "text": [
            " iter: 1200, loss: 1.66075632, lr: [3.4833974983513385e-08]\n"
          ]
        },
        {
          "name": "stderr",
          "output_type": "stream",
          "text": [
            "100%|██████████| 1242/1242 [09:52<00:00,  2.10it/s]\n",
            "100%|██████████| 219/219 [01:40<00:00,  2.18it/s]\n"
          ]
        },
        {
          "name": "stdout",
          "output_type": "stream",
          "text": [
            "Accuracy: 0.4115296803652968\n",
            "\u001b[94m Confusion Matrix: \u001b[0m \n",
            "preds   1     5   All\n",
            "label                \n",
            "0       0     1     1\n",
            "1      20   689   709\n",
            "2       1   130   131\n",
            "3       5   342   347\n",
            "4       6   139   145\n",
            "5       7  1422  1429\n",
            "6       2   187   189\n",
            "7       2   521   523\n",
            "8       0    30    30\n",
            "All    43  3461  3504\n",
            "              precision    recall  f1-score   support\n",
            "\n",
            "           V       0.00      0.00      0.00         1\n",
            "           S       0.47      0.03      0.05       709\n",
            "          MP       0.00      0.00      0.00       131\n",
            "           C       0.00      0.00      0.00       347\n",
            "           L       0.00      0.00      0.00       145\n",
            "           M       0.41      1.00      0.58      1429\n",
            "          KD       0.00      0.00      0.00       189\n",
            "          SD       0.00      0.00      0.00       523\n",
            " independent       0.00      0.00      0.00        30\n",
            "\n",
            "    accuracy                           0.41      3504\n",
            "   macro avg       0.10      0.11      0.07      3504\n",
            "weighted avg       0.26      0.41      0.25      3504\n",
            "\n"
          ]
        }
      ],
      "source": [
        "from sklearn import metrics\n",
        "loss_logger = []\n",
        "iter_before_print = 50 # Iterations before printing avg loss\n",
        "\n",
        "for epoch in range(nr_epochs):\n",
        "    print(f\"epoch: {epoch + 1} started\")\n",
        "    running_loss = 0\n",
        "\n",
        "    for i, batch in enumerate(tqdm(train_loader)):\n",
        "        optimizer.zero_grad()\n",
        "\n",
        "        # .squeeze(dim=1) changes dims [16, 1, 512] ---> [16, 512]\n",
        "        input_ids = batch[\"input_ids\"].squeeze(dim=1).to(device)\n",
        "        attention_mask = batch[\"attention_mask\"].squeeze(dim=1).to(device)\n",
        "        labels = batch[\"label\"].to(device)\n",
        "        outputs = model(input_ids, attention_mask=attention_mask)\n",
        "        loss = loss_function(outputs[\"logits\"], labels)\n",
        "\n",
        "        # Collect losses to print running avg, and later plotting\n",
        "        running_loss += loss.item()\n",
        "        if i % iter_before_print == (iter_before_print - 1):\n",
        "            print(\n",
        "                (\n",
        "                f\" iter: {i+1}, loss: {running_loss/iter_before_print:.8f}, \"\n",
        "                f\"lr: {learning_rate_scheduler.get_last_lr()}\"\n",
        "                )\n",
        "            )\n",
        "            loss_logger.append({\"iter\": i + 1,\n",
        "                                \"loss\": running_loss / iter_before_print})\n",
        "            running_loss = 0\n",
        "\n",
        "        # Updates of gradients and learning rate\n",
        "        loss.backward()\n",
        "        optimizer.step()\n",
        "        learning_rate_scheduler.step()\n",
        "\n",
        "    # Prediction and evaluation metrics\n",
        "    df_res = predict(model=model, df_valid=df_valid)\n",
        "    accuracy = sum(df_res[\"label\"] == df_res[\"preds\"]) / len(df_res)\n",
        "    print(f\"Accuracy: {accuracy}\")\n",
        "    print(\n",
        "        (\n",
        "            f\"\\033[94m Confusion Matrix: \\033[0m \\n\" # Blue colored text\n",
        "            f\"{pd.crosstab(df_res['label'], df_res['preds'], margins=True)}\"\n",
        "        )\n",
        "    )\n",
        "    print(metrics.classification_report(y_true=df_res[\"label\"],\n",
        "                                        y_pred=df_res[\"preds\"],\n",
        "                                        labels=list(label_mapping.values()),\n",
        "                                        target_names=label_mapping.keys(),\n",
        "                                        zero_division=0))"
      ]
    },
    {
      "cell_type": "markdown",
      "metadata": {
        "id": "DqcNXlDS8_zm"
      },
      "source": [
        "## Evaluation\n",
        "\n",
        "How did the model perform on our evaluation dataset? It seems the model managed to to predict the correct party for roughly $46\\%$ of the parliamentary motions correctly. Although the data is unbalanced and the macro average indicate that we can improve."
      ]
    },
    {
      "cell_type": "code",
      "execution_count": 19,
      "metadata": {
        "colab": {
          "base_uri": "https://localhost:8080/"
        },
        "id": "tH4iVRGsaTzG",
        "outputId": "e4dd0888-e39a-4573-e7d0-1baaeb32a295"
      },
      "outputs": [
        {
          "name": "stdout",
          "output_type": "stream",
          "text": [
            "              precision    recall  f1-score   support\n",
            "\n",
            "           V       0.00      0.00      0.00         1\n",
            "           S       0.47      0.03      0.05       709\n",
            "          MP       0.00      0.00      0.00       131\n",
            "           C       0.00      0.00      0.00       347\n",
            "           L       0.00      0.00      0.00       145\n",
            "           M       0.41      1.00      0.58      1429\n",
            "          KD       0.00      0.00      0.00       189\n",
            "          SD       0.00      0.00      0.00       523\n",
            " independent       0.00      0.00      0.00        30\n",
            "\n",
            "    accuracy                           0.41      3504\n",
            "   macro avg       0.10      0.11      0.07      3504\n",
            "weighted avg       0.26      0.41      0.25      3504\n",
            "\n"
          ]
        }
      ],
      "source": [
        "print(\n",
        "    metrics.classification_report(\n",
        "        df_res[\"label\"],\n",
        "        df_res[\"preds\"],\n",
        "        labels=list(label_mapping.values()),\n",
        "        target_names=label_mapping.keys(),\n",
        "        zero_division=0\n",
        "    )\n",
        ")"
      ]
    },
    {
      "cell_type": "markdown",
      "metadata": {
        "id": "YiUpch6hVfUq"
      },
      "source": [
        "### Test our model on recent parliamentary motions\n",
        "\n",
        "We can test our model on texts from recently submitted parliamentary motions, which are neither part of the train nor the validation set."
      ]
    },
    {
      "cell_type": "code",
      "execution_count": 20,
      "metadata": {
        "colab": {
          "base_uri": "https://localhost:8080/"
        },
        "id": "hsOqhp7LV110",
        "outputId": "da2e818e-be3b-40ea-93cd-0fac974de998"
      },
      "outputs": [
        {
          "name": "stdout",
          "output_type": "stream",
          "text": [
            "tensor([[0.0153, 0.2227, 0.0406, 0.0932, 0.0447, 0.3779, 0.0672, 0.1184, 0.0201]],\n",
            "       device='cuda:0')\n",
            "tensor(5)\n"
          ]
        }
      ],
      "source": [
        "# Parliamentary motion from Miljöpartiet: https://www.riksdagen.se/sv/dokument-lagar/dokument/motion/stoppa-handeln-med-utrotningshotade-djur_HA022280\n",
        "motions_text = \"\"\"\n",
        "Handeln med hotade arter är världens fjärde största illegala handel, och omsätter ofantliga summor som göder kriminella nätverk.\n",
        "Forskare har länge varnat om att allt fler virus riskerar att spridas från djur till människor.\n",
        "Utbrottet av Coronaviruset Covid-19 har återigen satt strålkastarljuset på kopplingen mellan djurmarknader och sjukdomar.\n",
        "En anledning till att risken för virusspridning ökar på marknaderna är att det är ohygieniska förhållanden med en stor blandning av olika djurarter, ofta stressade – som aldrig skulle träffas naturligt i det vilda. Olika virus kan då hoppa från en djurart till en annan och sedan vidare till människan.\n",
        "På den internationella marknaden säljs varje år flera miljoner vildfångade fåglar, tiotusentals apor och ett oräkneligt antal andra djur och växter år på den internationella marknaden. Djuren säljs som exotiska husdjur, eller så används deras pälsar och skin inom klädindustrin.\n",
        "Delar från skelett, horn och betar används som ingredienser i naturmediciner och mat, till smycken och prydnadsföremål. Den stora efterfrågan på elfenben bidrar till allt för stor jakt på världens elefanter. Även världens noshörningsarter hotas av tjuvjakt och illegal handel.\n",
        "\"\"\"\n",
        "\n",
        "with torch.no_grad():\n",
        "    inputs = tokenizer(\n",
        "        motions_text, padding=\"max_length\", max_length=512, truncation=True, return_tensors=\"pt\",\n",
        "    )\n",
        "\n",
        "    input_ids = inputs[\"input_ids\"].to(device)\n",
        "    attention_mask = inputs[\"attention_mask\"].to(device)\n",
        "    outputs = model(input_ids, attention_mask=attention_mask)\n",
        "\n",
        "    probs = torch.nn.functional.softmax(outputs[\"logits\"], dim=1)\n",
        "    preds = torch.argmax(probs).to(\"cpu\")\n",
        "\n",
        "print(probs)\n",
        "print(preds)"
      ]
    },
    {
      "cell_type": "markdown",
      "metadata": {
        "id": "hUvDR5_mgNZ7"
      },
      "source": [
        "## Authors\n",
        "\n",
        "* Faton Rekathati (faton.rekathati@kb.se)\n",
        "* Måns Magnusson (mans.magnusson@statistik.uu.se)\n"
      ]
    }
  ],
  "metadata": {
    "accelerator": "GPU",
    "colab": {
      "collapsed_sections": [
        "hUvDR5_mgNZ7"
      ],
      "provenance": []
    },
    "gpuClass": "standard",
    "kernelspec": {
      "display_name": "Python 3",
      "name": "python3"
    },
    "language_info": {
      "name": "python"
    }
  },
  "nbformat": 4,
  "nbformat_minor": 0
}
